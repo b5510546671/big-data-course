{
 "cells": [
  {
   "cell_type": "markdown",
   "metadata": {},
   "source": [
    "### Reading data from CSV files using csv package"
   ]
  },
  {
   "cell_type": "code",
   "execution_count": null,
   "metadata": {
    "collapsed": true
   },
   "outputs": [],
   "source": [
    "import csv"
   ]
  },
  {
   "cell_type": "code",
   "execution_count": null,
   "metadata": {
    "collapsed": false
   },
   "outputs": [],
   "source": [
    "# Read Cities.csv data into default list format and print all rows\n",
    "# Make sure data file is in same folder as notebook\n",
    "# Note all values are read as strings\n",
    "with open('Cities.csv') as f:\n",
    "    rows = csv.reader(f)\n",
    "    for r in rows:\n",
    "        print r\n",
    "# Add print rows\n",
    "print rows"
   ]
  },
  {
   "cell_type": "code",
   "execution_count": null,
   "metadata": {
    "collapsed": false
   },
   "outputs": [],
   "source": [
    "# Same as previous except use dictionary format\n",
    "with open('Cities.csv') as f:\n",
    "    rows = csv.DictReader(f)\n",
    "    for r in rows:\n",
    "        print r"
   ]
  },
  {
   "cell_type": "code",
   "execution_count": null,
   "metadata": {
    "collapsed": false
   },
   "outputs": [],
   "source": [
    "# Print the name and longitude of all cities with longitude < 0\n",
    "# Use dictionary format\n",
    "with open('Cities.csv') as f:\n",
    "    rows = csv.DictReader(f)\n",
    "    for r in rows:\n",
    "        if float( r['longitude']) < 0:\n",
    "            print r['city'], r['longitude']\n",
    "# What happened?"
   ]
  },
  {
   "cell_type": "code",
   "execution_count": 13,
   "metadata": {
    "collapsed": false
   },
   "outputs": [
    {
     "name": "stdout",
     "output_type": "stream",
     "text": [
      "Aberdeen -2.08\n",
      "Albacete -1.87\n",
      "Algeciras -5.47\n",
      "Angers -0.53\n",
      "Badajoz -6.97\n",
      "Belfast -5.96\n",
      "Bilbao -2.93\n",
      "Birmingham -1.92\n",
      "Blackpool -3.05\n",
      "Bordeaux -0.60\n",
      "Bournemouth -1.90\n",
      "Bradford -1.75\n",
      "Braga -8.42\n",
      "Brest -4.50\n",
      "Burgos -3.68\n",
      "Caen -0.35\n",
      "Cartagena -0.98\n",
      "Cork -8.50\n",
      "Dublin -6.25\n",
      "Dundee -3.00\n",
      "Edinburgh -3.22\n",
      "Exeter -3.53\n",
      "Galway -9.05\n",
      "Glasgow -4.25\n",
      "Granada -3.59\n",
      "Huelva -6.93\n",
      "Inverness -4.23\n",
      "Lisbon -9.14\n",
      "Madrid -3.68\n",
      "Marbella -4.88\n",
      "Murcia -1.13\n",
      "Oviedo -5.83\n",
      "Salamanca -5.67\n",
      "Santander -3.80\n",
      "Swansea -3.95\n",
      "Valencia -0.40\n",
      "Vigo -8.73\n",
      "Zaragoza -0.89\n"
     ]
    }
   ],
   "source": [
    "# Same but using list format\n",
    "with open('Cities.csv') as f:\n",
    "    rows = csv.reader(f)\n",
    "    next(rows)\n",
    "    for r in rows:\n",
    "        if float(r[3]) < 0:\n",
    "            print r[0], r[3]\n",
    "# Fix header row with next(rows)"
   ]
  },
  {
   "cell_type": "code",
   "execution_count": 15,
   "metadata": {
    "collapsed": false
   },
   "outputs": [
    {
     "name": "stdout",
     "output_type": "stream",
     "text": [
      "Aalborg yes\n",
      "Aberdeen yes\n",
      "Abisko yes\n",
      "Adana no\n",
      "Albacete yes\n",
      "Algeciras yes\n",
      "Amiens yes\n",
      "Amsterdam yes\n",
      "Ancona yes\n",
      "Andorra no\n",
      "Angers yes\n",
      "Ankara no\n",
      "Antalya no\n",
      "Arad yes\n",
      "Athens yes\n",
      "Augsburg yes\n",
      "Bacau yes\n",
      "Badajoz yes\n",
      "Baia Mare yes\n",
      "Balti no\n",
      "Barcelona yes\n",
      "Bari yes\n",
      "Basel no\n",
      "Batman no\n",
      "Belfast yes\n",
      "Belgrade no\n",
      "Bergamo yes\n",
      "Bergen no\n",
      "Berlin yes\n",
      "Bialystok yes\n",
      "Bielefeld yes\n",
      "Bila Tserkva no\n",
      "Bilbao yes\n",
      "Birmingham yes\n",
      "Blackpool yes\n",
      "Bodo no\n",
      "Bologna yes\n",
      "Bonn yes\n",
      "Bordeaux yes\n",
      "Botosani yes\n",
      "Bournemouth yes\n",
      "Bradford yes\n",
      "Braga yes\n",
      "Braila yes\n",
      "Bratislava yes\n",
      "Bremen yes\n",
      "Brest yes\n",
      "Brest no\n",
      "Brno yes\n",
      "Brugge yes\n",
      "Bucharest yes\n",
      "Budapest yes\n",
      "Burgas yes\n",
      "Burgos yes\n",
      "Bursa no\n",
      "Bydgoszcz yes\n",
      "Bytom yes\n",
      "Caen yes\n",
      "Cambridge yes\n",
      "Cartagena yes\n",
      "Catania yes\n",
      "Chemnitz yes\n",
      "Cherkasy no\n",
      "Chernihiv no\n",
      "Chernivtsi no\n",
      "Chisinau no\n",
      "Constanta yes\n",
      "Cork yes\n",
      "Cosenza yes\n",
      "Craiova yes\n",
      "Daugavpils yes\n",
      "Debrecen yes\n",
      "Denizli no\n",
      "Dijon yes\n",
      "Dublin yes\n",
      "Dundee yes\n",
      "Edinburgh yes\n",
      "Edirne no\n",
      "Elbasan no\n",
      "Elblag yes\n",
      "Erfurt yes\n",
      "Erzincan no\n",
      "Erzurum no\n",
      "Eskisehir no\n",
      "Exeter yes\n",
      "Foggia yes\n",
      "Frankfurt yes\n",
      "Freiburg yes\n",
      "Galway yes\n",
      "Gaziantep no\n",
      "Geneva no\n",
      "Genoa yes\n",
      "Glasgow yes\n",
      "Göteborg yes\n",
      "Granada yes\n",
      "Graz yes\n",
      "Grenoble yes\n",
      "Groningen yes\n",
      "Gyor yes\n",
      "Heidelberg yes\n",
      "Helsinki yes\n",
      "Horlivka no\n",
      "Hrodna no\n",
      "Huelva yes\n",
      "Ingolstadt yes\n",
      "Innsbruck yes\n",
      "Inverness yes\n",
      "Istanbul no\n",
      "Kalamata yes\n",
      "Karaman no\n",
      "Karlsruhe yes\n",
      "Kaunas yes\n",
      "Kayseri no\n",
      "Kherson no\n",
      "Kielce yes\n",
      "Kiev no\n",
      "Kiruna yes\n",
      "Klaipeda yes\n",
      "Kosice yes\n",
      "Koszalin yes\n",
      "Kremenchuk no\n",
      "Kryvyy Rih no\n",
      "Le Mans yes\n",
      "Lille yes\n",
      "Limoges yes\n",
      "Linz yes\n",
      "Lisbon yes\n",
      "Ljubljana yes\n",
      "Lvov no\n",
      "Maastricht yes\n",
      "Madrid yes\n",
      "Magdeburg yes\n",
      "Makiyivka no\n",
      "Malatya no\n",
      "Malmö yes\n",
      "Manisa no\n",
      "Marbella yes\n",
      "Marseille yes\n",
      "Mazyr no\n",
      "Messina yes\n",
      "Metz yes\n",
      "Milan yes\n",
      "Minsk no\n",
      "Montpellier yes\n",
      "Mulhouse yes\n",
      "Murcia yes\n",
      "Nice yes\n",
      "Nis no\n",
      "Novi Sad no\n",
      "Odense yes\n",
      "Ordu no\n",
      "Orsha no\n",
      "Oslo no\n",
      "Ostrava yes\n",
      "Oulu yes\n",
      "Oviedo yes\n",
      "Palermo yes\n",
      "Patras yes\n",
      "Perpignan yes\n",
      "Perugia yes\n",
      "Pescara yes\n",
      "Pinsk no\n",
      "Pleven yes\n",
      "Plovdiv yes\n",
      "Podgorica no\n",
      "Poznan yes\n",
      "Prague yes\n",
      "Reims yes\n",
      "Riga yes\n",
      "Rijeka yes\n",
      "Rivne no\n",
      "Rome yes\n",
      "Rostock yes\n",
      "Ruse yes\n",
      "Salamanca yes\n",
      "Salzburg yes\n",
      "Samsun no\n",
      "Santander yes\n",
      "Sarajevo no\n",
      "Sibiu yes\n",
      "Siirt no\n",
      "Sivas no\n",
      "Skopje no\n",
      "Split yes\n",
      "Stara Zagora yes\n",
      "Stavanger no\n",
      "Stockholm yes\n",
      "Sumy no\n",
      "Swansea yes\n",
      "Szeged yes\n",
      "Tallinn yes\n",
      "Tampere yes\n",
      "Tarsus no\n",
      "Tartu yes\n",
      "Tekirdag no\n",
      "Toulouse yes\n",
      "Trabzon no\n",
      "Trieste yes\n",
      "Trikala yes\n",
      "Trondheim no\n",
      "Turku yes\n",
      "Uppsala yes\n",
      "Valencia yes\n",
      "Vienna yes\n",
      "Vigo yes\n",
      "Vilnius yes\n",
      "Warsaw yes\n",
      "Wroclaw yes\n",
      "Yevpatoriya no\n",
      "Zaragoza yes\n",
      "Zhytomyr no\n",
      "Zonguldak no\n",
      "Zurich no\n"
     ]
    }
   ],
   "source": [
    "# Perform join of cities and countries, print city and whether in EU\n",
    "with open('Cities.csv') as f1:\n",
    "    rows1 = csv.DictReader(f1)\n",
    "    for city in rows1:\n",
    "        with open('Countries.csv') as f2:\n",
    "            rows2 = csv.DictReader(f2)\n",
    "            for country in rows2:\n",
    "                if city['country'] == country['country']:\n",
    "                    print city['city'], country['EU']"
   ]
  },
  {
   "cell_type": "code",
   "execution_count": 16,
   "metadata": {
    "collapsed": false
   },
   "outputs": [
    {
     "name": "stdout",
     "output_type": "stream",
     "text": [
      "{'EU': 'no', 'country': 'Albania', 'highest': '2764', 'coastline': 'yes'}\n",
      "{'EU': 'no', 'country': 'Andorra', 'highest': '2942', 'coastline': 'no'}\n",
      "{'EU': 'yes', 'country': 'Austria', 'highest': '3798', 'coastline': 'no'}\n",
      "{'EU': 'no', 'country': 'Belarus', 'highest': '345', 'coastline': 'no'}\n",
      "{'EU': 'yes', 'country': 'Belgium', 'highest': '694', 'coastline': 'yes'}\n",
      "{'EU': 'no', 'country': 'Bosnia and Herzegovina', 'highest': '2386', 'coastline': 'no'}\n",
      "{'EU': 'yes', 'country': 'Bulgaria', 'highest': '2925', 'coastline': 'yes'}\n",
      "{'EU': 'yes', 'country': 'Croatia', 'highest': '1831', 'coastline': 'yes'}\n",
      "{'EU': 'yes', 'country': 'Cyprus', 'highest': '1952', 'coastline': 'yes'}\n",
      "{'EU': 'yes', 'country': 'Czech Republic', 'highest': '1603', 'coastline': 'no'}\n",
      "{'EU': 'yes', 'country': 'Denmark', 'highest': '171', 'coastline': 'yes'}\n",
      "{'EU': 'yes', 'country': 'Estonia', 'highest': '318', 'coastline': 'yes'}\n",
      "{'EU': 'yes', 'country': 'Finland', 'highest': '1324', 'coastline': 'yes'}\n",
      "{'EU': 'yes', 'country': 'France', 'highest': '4810', 'coastline': 'yes'}\n",
      "{'EU': 'yes', 'country': 'Germany', 'highest': '2962', 'coastline': 'yes'}\n",
      "{'EU': 'yes', 'country': 'Greece', 'highest': '2919', 'coastline': 'yes'}\n",
      "{'EU': 'yes', 'country': 'Hungary', 'highest': '1014', 'coastline': 'no'}\n",
      "{'EU': 'no', 'country': 'Iceland', 'highest': '2110', 'coastline': 'yes'}\n",
      "{'EU': 'yes', 'country': 'Ireland', 'highest': '1041', 'coastline': 'yes'}\n",
      "{'EU': 'yes', 'country': 'Italy', 'highest': '4810', 'coastline': 'yes'}\n",
      "{'EU': 'no', 'country': 'Kosovo', 'highest': '2656', 'coastline': 'no'}\n",
      "{'EU': 'yes', 'country': 'Latvia', 'highest': '311', 'coastline': 'yes'}\n",
      "{'EU': 'no', 'country': 'Liechtenstein', 'highest': '2599', 'coastline': 'no'}\n",
      "{'EU': 'yes', 'country': 'Lithuania', 'highest': '294', 'coastline': 'yes'}\n",
      "{'EU': 'yes', 'country': 'Luxembourg', 'highest': '560', 'coastline': 'no'}\n",
      "{'EU': 'no', 'country': 'Macedonia', 'highest': '2764', 'coastline': 'no'}\n",
      "{'EU': 'no', 'country': 'Moldova', 'highest': '430', 'coastline': 'no'}\n",
      "{'EU': 'no', 'country': 'Montenegro', 'highest': '2534', 'coastline': 'yes'}\n",
      "{'EU': 'yes', 'country': 'Netherlands', 'highest': '321', 'coastline': 'yes'}\n",
      "{'EU': 'no', 'country': 'Norway', 'highest': '2469', 'coastline': 'yes'}\n",
      "{'EU': 'yes', 'country': 'Poland', 'highest': '2499', 'coastline': 'yes'}\n",
      "{'EU': 'yes', 'country': 'Portugal', 'highest': '1993', 'coastline': 'yes'}\n",
      "{'EU': 'yes', 'country': 'Romania', 'highest': '2544', 'coastline': 'yes'}\n",
      "{'EU': 'no', 'country': 'Serbia', 'highest': '2169', 'coastline': 'no'}\n",
      "{'EU': 'yes', 'country': 'Slovakia', 'highest': '2655', 'coastline': 'no'}\n",
      "{'EU': 'yes', 'country': 'Slovenia', 'highest': '2864', 'coastline': 'yes'}\n",
      "{'EU': 'yes', 'country': 'Spain', 'highest': '3479', 'coastline': 'yes'}\n",
      "{'EU': 'yes', 'country': 'Sweden', 'highest': '2104', 'coastline': 'yes'}\n",
      "{'EU': 'no', 'country': 'Switzerland', 'highest': '4634', 'coastline': 'no'}\n",
      "{'EU': 'no', 'country': 'Turkey', 'highest': '5137', 'coastline': 'yes'}\n",
      "{'EU': 'no', 'country': 'Ukraine', 'highest': '2061', 'coastline': 'yes'}\n",
      "{'EU': 'yes', 'country': 'United Kingdom', 'highest': '1344', 'coastline': 'yes'}\n"
     ]
    }
   ],
   "source": [
    "# Same as previous except use dictionary format\n",
    "with open('Countries.csv') as f:\n",
    "    rows = csv.DictReader(f)\n",
    "    for r in rows:\n",
    "        print r"
   ]
  },
  {
   "cell_type": "markdown",
   "metadata": {},
   "source": [
    "### <font color=\"green\">Your Turn</font>"
   ]
  },
  {
   "cell_type": "code",
   "execution_count": 18,
   "metadata": {
    "collapsed": false
   },
   "outputs": [
    {
     "name": "stdout",
     "output_type": "stream",
     "text": [
      "Albania 2764\n",
      "Iceland 2110\n",
      "Montenegro 2534\n",
      "Norway 2469\n",
      "Turkey 5137\n",
      "Ukraine 2061\n"
     ]
    }
   ],
   "source": [
    "# Using Countries.csv and reading in dictionary format, find\n",
    "# all countries that have coastline and are not in the EU.\n",
    "# Print the list of countries and their highest points.\n",
    "# Hint: The copy-paste-modify approach to programming\n",
    "# is highly recommended!\n",
    "with open('Countries.csv') as f:\n",
    "    rows = csv.DictReader(f)\n",
    "\n",
    "    for r in rows:\n",
    "        if(r['EU'] == 'no' and r['coastline'] == 'yes'):\n",
    "            print r['country'], r['highest']"
   ]
  },
  {
   "cell_type": "markdown",
   "metadata": {},
   "source": [
    "### Reading data into Python data structures"
   ]
  },
  {
   "cell_type": "code",
   "execution_count": 19,
   "metadata": {
    "collapsed": false
   },
   "outputs": [
    {
     "name": "stdout",
     "output_type": "stream",
     "text": [
      "[{'latitude': '57.03', 'city': 'Aalborg', 'temperature': '7.52', 'longitude': '9.92', 'country': 'Denmark'}, {'latitude': '57.17', 'city': 'Aberdeen', 'temperature': '8.10', 'longitude': '-2.08', 'country': 'United Kingdom'}, {'latitude': '63.35', 'city': 'Abisko', 'temperature': '0.20', 'longitude': '18.83', 'country': 'Sweden'}, {'latitude': '36.99', 'city': 'Adana', 'temperature': '18.67', 'longitude': '35.32', 'country': 'Turkey'}, {'latitude': '39.00', 'city': 'Albacete', 'temperature': '12.62', 'longitude': '-1.87', 'country': 'Spain'}, {'latitude': '36.13', 'city': 'Algeciras', 'temperature': '17.38', 'longitude': '-5.47', 'country': 'Spain'}, {'latitude': '49.90', 'city': 'Amiens', 'temperature': '10.17', 'longitude': '2.30', 'country': 'France'}, {'latitude': '52.35', 'city': 'Amsterdam', 'temperature': '8.93', 'longitude': '4.92', 'country': 'Netherlands'}, {'latitude': '43.60', 'city': 'Ancona', 'temperature': '13.52', 'longitude': '13.50', 'country': 'Italy'}, {'latitude': '42.50', 'city': 'Andorra', 'temperature': '9.60', 'longitude': '1.52', 'country': 'Andorra'}, {'latitude': '47.48', 'city': 'Angers', 'temperature': '10.98', 'longitude': '-0.53', 'country': 'France'}, {'latitude': '39.93', 'city': 'Ankara', 'temperature': '9.86', 'longitude': '32.86', 'country': 'Turkey'}, {'latitude': '36.89', 'city': 'Antalya', 'temperature': '11.88', 'longitude': '30.70', 'country': 'Turkey'}, {'latitude': '46.17', 'city': 'Arad', 'temperature': '9.32', 'longitude': '21.32', 'country': 'Romania'}, {'latitude': '37.98', 'city': 'Athens', 'temperature': '17.41', 'longitude': '23.73', 'country': 'Greece'}, {'latitude': '48.35', 'city': 'Augsburg', 'temperature': '4.54', 'longitude': '10.90', 'country': 'Germany'}, {'latitude': '46.58', 'city': 'Bacau', 'temperature': '7.51', 'longitude': '26.92', 'country': 'Romania'}, {'latitude': '38.88', 'city': 'Badajoz', 'temperature': '15.61', 'longitude': '-6.97', 'country': 'Spain'}, {'latitude': '47.66', 'city': 'Baia Mare', 'temperature': '8.87', 'longitude': '23.58', 'country': 'Romania'}, {'latitude': '47.76', 'city': 'Balti', 'temperature': '8.23', 'longitude': '27.91', 'country': 'Moldova'}, {'latitude': '41.38', 'city': 'Barcelona', 'temperature': '15.78', 'longitude': '2.18', 'country': 'Spain'}, {'latitude': '41.11', 'city': 'Bari', 'temperature': '15.15', 'longitude': '16.87', 'country': 'Italy'}, {'latitude': '47.58', 'city': 'Basel', 'temperature': '6.68', 'longitude': '7.59', 'country': 'Switzerland'}, {'latitude': '37.89', 'city': 'Batman', 'temperature': '14.16', 'longitude': '41.14', 'country': 'Turkey'}, {'latitude': '54.60', 'city': 'Belfast', 'temperature': '8.48', 'longitude': '-5.96', 'country': 'United Kingdom'}, {'latitude': '44.82', 'city': 'Belgrade', 'temperature': '9.85', 'longitude': '20.47', 'country': 'Serbia'}, {'latitude': '45.70', 'city': 'Bergamo', 'temperature': '9.12', 'longitude': '9.67', 'country': 'Italy'}, {'latitude': '60.39', 'city': 'Bergen', 'temperature': '1.75', 'longitude': '5.32', 'country': 'Norway'}, {'latitude': '52.52', 'city': 'Berlin', 'temperature': '8.72', 'longitude': '13.40', 'country': 'Germany'}, {'latitude': '53.15', 'city': 'Bialystok', 'temperature': '6.07', 'longitude': '23.17', 'country': 'Poland'}, {'latitude': '52.03', 'city': 'Bielefeld', 'temperature': '8.78', 'longitude': '8.53', 'country': 'Germany'}, {'latitude': '49.77', 'city': 'Bila Tserkva', 'temperature': '6.98', 'longitude': '30.13', 'country': 'Ukraine'}, {'latitude': '43.25', 'city': 'Bilbao', 'temperature': '11.41', 'longitude': '-2.93', 'country': 'Spain'}, {'latitude': '52.47', 'city': 'Birmingham', 'temperature': '8.81', 'longitude': '-1.92', 'country': 'United Kingdom'}, {'latitude': '53.83', 'city': 'Blackpool', 'temperature': '9.15', 'longitude': '-3.05', 'country': 'United Kingdom'}, {'latitude': '67.25', 'city': 'Bodo', 'temperature': '4.50', 'longitude': '14.40', 'country': 'Norway'}, {'latitude': '44.50', 'city': 'Bologna', 'temperature': '11.69', 'longitude': '11.34', 'country': 'Italy'}, {'latitude': '50.72', 'city': 'Bonn', 'temperature': '8.63', 'longitude': '7.08', 'country': 'Germany'}, {'latitude': '44.85', 'city': 'Bordeaux', 'temperature': '11.87', 'longitude': '-0.60', 'country': 'France'}, {'latitude': '47.75', 'city': 'Botosani', 'temperature': '8.23', 'longitude': '26.66', 'country': 'Romania'}, {'latitude': '50.73', 'city': 'Bournemouth', 'temperature': '9.97', 'longitude': '-1.90', 'country': 'United Kingdom'}, {'latitude': '53.80', 'city': 'Bradford', 'temperature': '8.39', 'longitude': '-1.75', 'country': 'United Kingdom'}, {'latitude': '41.55', 'city': 'Braga', 'temperature': '13.42', 'longitude': '-8.42', 'country': 'Portugal'}, {'latitude': '45.29', 'city': 'Braila', 'temperature': '9.78', 'longitude': '27.97', 'country': 'Romania'}, {'latitude': '48.15', 'city': 'Bratislava', 'temperature': '9.65', 'longitude': '17.12', 'country': 'Slovakia'}, {'latitude': '53.08', 'city': 'Bremen', 'temperature': '8.14', 'longitude': '8.80', 'country': 'Germany'}, {'latitude': '48.39', 'city': 'Brest', 'temperature': '11.02', 'longitude': '-4.50', 'country': 'France'}, {'latitude': '52.10', 'city': 'Brest', 'temperature': '6.73', 'longitude': '23.70', 'country': 'Belarus'}, {'latitude': '49.20', 'city': 'Brno', 'temperature': '7.86', 'longitude': '16.61', 'country': 'Czech Republic'}, {'latitude': '51.22', 'city': 'Brugge', 'temperature': '9.65', 'longitude': '3.23', 'country': 'Belgium'}, {'latitude': '44.43', 'city': 'Bucharest', 'temperature': '10.59', 'longitude': '26.10', 'country': 'Romania'}, {'latitude': '47.50', 'city': 'Budapest', 'temperature': '9.55', 'longitude': '19.08', 'country': 'Hungary'}, {'latitude': '42.51', 'city': 'Burgas', 'temperature': '11.93', 'longitude': '27.47', 'country': 'Bulgaria'}, {'latitude': '42.35', 'city': 'Burgos', 'temperature': '10.45', 'longitude': '-3.68', 'country': 'Spain'}, {'latitude': '40.20', 'city': 'Bursa', 'temperature': '11.16', 'longitude': '29.07', 'country': 'Turkey'}, {'latitude': '53.12', 'city': 'Bydgoszcz', 'temperature': '7.14', 'longitude': '18.01', 'country': 'Poland'}, {'latitude': '50.35', 'city': 'Bytom', 'temperature': '7.66', 'longitude': '18.91', 'country': 'Poland'}, {'latitude': '49.18', 'city': 'Caen', 'temperature': '9.96', 'longitude': '-0.35', 'country': 'France'}, {'latitude': '52.20', 'city': 'Cambridge', 'temperature': '9.25', 'longitude': '0.12', 'country': 'United Kingdom'}, {'latitude': '37.60', 'city': 'Cartagena', 'temperature': '17.32', 'longitude': '-0.98', 'country': 'Spain'}, {'latitude': '37.50', 'city': 'Catania', 'temperature': '15.04', 'longitude': '15.08', 'country': 'Italy'}, {'latitude': '50.83', 'city': 'Chemnitz', 'temperature': '8.05', 'longitude': '12.92', 'country': 'Germany'}, {'latitude': '49.43', 'city': 'Cherkasy', 'temperature': '7.19', 'longitude': '32.07', 'country': 'Ukraine'}, {'latitude': '51.50', 'city': 'Chernihiv', 'temperature': '5.92', 'longitude': '31.30', 'country': 'Ukraine'}, {'latitude': '48.31', 'city': 'Chernivtsi', 'temperature': '7.06', 'longitude': '25.92', 'country': 'Ukraine'}, {'latitude': '47.01', 'city': 'Chisinau', 'temperature': '8.60', 'longitude': '28.86', 'country': 'Moldova'}, {'latitude': '44.20', 'city': 'Constanta', 'temperature': '11.24', 'longitude': '28.61', 'country': 'Romania'}, {'latitude': '51.90', 'city': 'Cork', 'temperature': '9.41', 'longitude': '-8.50', 'country': 'Ireland'}, {'latitude': '39.27', 'city': 'Cosenza', 'temperature': '16.60', 'longitude': '16.29', 'country': 'Italy'}, {'latitude': '44.33', 'city': 'Craiova', 'temperature': '10.51', 'longitude': '23.83', 'country': 'Romania'}, {'latitude': '55.88', 'city': 'Daugavpils', 'temperature': '5.38', 'longitude': '26.51', 'country': 'Latvia'}, {'latitude': '47.53', 'city': 'Debrecen', 'temperature': '8.87', 'longitude': '21.63', 'country': 'Hungary'}, {'latitude': '37.77', 'city': 'Denizli', 'temperature': '15.02', 'longitude': '29.08', 'country': 'Turkey'}, {'latitude': '47.33', 'city': 'Dijon', 'temperature': '8.69', 'longitude': '5.03', 'country': 'France'}, {'latitude': '53.33', 'city': 'Dublin', 'temperature': '8.49', 'longitude': '-6.25', 'country': 'Ireland'}, {'latitude': '56.47', 'city': 'Dundee', 'temperature': '6.40', 'longitude': '-3.00', 'country': 'United Kingdom'}, {'latitude': '55.95', 'city': 'Edinburgh', 'temperature': '7.43', 'longitude': '-3.22', 'country': 'United Kingdom'}, {'latitude': '41.67', 'city': 'Edirne', 'temperature': '10.90', 'longitude': '26.57', 'country': 'Turkey'}, {'latitude': '41.12', 'city': 'Elbasan', 'temperature': '15.18', 'longitude': '20.08', 'country': 'Albania'}, {'latitude': '54.19', 'city': 'Elblag', 'temperature': '6.68', 'longitude': '19.40', 'country': 'Poland'}, {'latitude': '50.97', 'city': 'Erfurt', 'temperature': '7.40', 'longitude': '11.03', 'country': 'Germany'}, {'latitude': '39.75', 'city': 'Erzincan', 'temperature': '8.67', 'longitude': '39.49', 'country': 'Turkey'}, {'latitude': '39.92', 'city': 'Erzurum', 'temperature': '5.17', 'longitude': '41.29', 'country': 'Turkey'}, {'latitude': '39.79', 'city': 'Eskisehir', 'temperature': '11.11', 'longitude': '30.53', 'country': 'Turkey'}, {'latitude': '50.70', 'city': 'Exeter', 'temperature': '10.14', 'longitude': '-3.53', 'country': 'United Kingdom'}, {'latitude': '41.46', 'city': 'Foggia', 'temperature': '13.83', 'longitude': '15.56', 'country': 'Italy'}, {'latitude': '50.10', 'city': 'Frankfurt', 'temperature': '7.98', 'longitude': '8.68', 'country': 'Germany'}, {'latitude': '48.00', 'city': 'Freiburg', 'temperature': '6.68', 'longitude': '7.87', 'country': 'Germany'}, {'latitude': '53.27', 'city': 'Galway', 'temperature': '10.00', 'longitude': '-9.05', 'country': 'Ireland'}, {'latitude': '37.07', 'city': 'Gaziantep', 'temperature': '13.46', 'longitude': '37.38', 'country': 'Turkey'}, {'latitude': '46.21', 'city': 'Geneva', 'temperature': '8.40', 'longitude': '6.14', 'country': 'Switzerland'}, {'latitude': '44.41', 'city': 'Genoa', 'temperature': '12.94', 'longitude': '8.93', 'country': 'Italy'}, {'latitude': '55.87', 'city': 'Glasgow', 'temperature': '8.60', 'longitude': '-4.25', 'country': 'United Kingdom'}, {'latitude': '57.75', 'city': 'G\\xc3\\xb6teborg', 'temperature': '5.76', 'longitude': '12.00', 'country': 'Sweden'}, {'latitude': '37.16', 'city': 'Granada', 'temperature': '16.33', 'longitude': '-3.59', 'country': 'Spain'}, {'latitude': '47.08', 'city': 'Graz', 'temperature': '6.91', 'longitude': '15.41', 'country': 'Austria'}, {'latitude': '45.18', 'city': 'Grenoble', 'temperature': '8.40', 'longitude': '5.72', 'country': 'France'}, {'latitude': '53.22', 'city': 'Groningen', 'temperature': '8.71', 'longitude': '6.58', 'country': 'Netherlands'}, {'latitude': '47.70', 'city': 'Gyor', 'temperature': '9.65', 'longitude': '17.63', 'country': 'Hungary'}, {'latitude': '49.42', 'city': 'Heidelberg', 'temperature': '8.47', 'longitude': '8.70', 'country': 'Germany'}, {'latitude': '60.18', 'city': 'Helsinki', 'temperature': '4.19', 'longitude': '24.93', 'country': 'Finland'}, {'latitude': '48.30', 'city': 'Horlivka', 'temperature': '7.12', 'longitude': '38.05', 'country': 'Ukraine'}, {'latitude': '53.68', 'city': 'Hrodna', 'temperature': '6.07', 'longitude': '23.83', 'country': 'Belarus'}, {'latitude': '37.25', 'city': 'Huelva', 'temperature': '17.09', 'longitude': '-6.93', 'country': 'Spain'}, {'latitude': '48.77', 'city': 'Ingolstadt', 'temperature': '7.57', 'longitude': '11.45', 'country': 'Germany'}, {'latitude': '47.28', 'city': 'Innsbruck', 'temperature': '4.54', 'longitude': '11.41', 'country': 'Austria'}, {'latitude': '57.47', 'city': 'Inverness', 'temperature': '8.00', 'longitude': '-4.23', 'country': 'United Kingdom'}, {'latitude': '41.10', 'city': 'Istanbul', 'temperature': '13.20', 'longitude': '29.01', 'country': 'Turkey'}, {'latitude': '37.04', 'city': 'Kalamata', 'temperature': '17.30', 'longitude': '22.11', 'country': 'Greece'}, {'latitude': '37.18', 'city': 'Karaman', 'temperature': '10.41', 'longitude': '33.22', 'country': 'Turkey'}, {'latitude': '49.00', 'city': 'Karlsruhe', 'temperature': '8.88', 'longitude': '8.40', 'country': 'Germany'}, {'latitude': '54.95', 'city': 'Kaunas', 'temperature': '6.05', 'longitude': '23.88', 'country': 'Lithuania'}, {'latitude': '38.73', 'city': 'Kayseri', 'temperature': '8.89', 'longitude': '35.49', 'country': 'Turkey'}, {'latitude': '46.63', 'city': 'Kherson', 'temperature': '8.64', 'longitude': '32.60', 'country': 'Ukraine'}, {'latitude': '50.89', 'city': 'Kielce', 'temperature': '7.29', 'longitude': '20.66', 'country': 'Poland'}, {'latitude': '50.43', 'city': 'Kiev', 'temperature': '6.88', 'longitude': '30.52', 'country': 'Ukraine'}, {'latitude': '67.85', 'city': 'Kiruna', 'temperature': '-2.20', 'longitude': '20.22', 'country': 'Sweden'}, {'latitude': '55.72', 'city': 'Klaipeda', 'temperature': '7.00', 'longitude': '21.12', 'country': 'Lithuania'}, {'latitude': '48.73', 'city': 'Kosice', 'temperature': '7.31', 'longitude': '21.25', 'country': 'Slovakia'}, {'latitude': '54.20', 'city': 'Koszalin', 'temperature': '7.73', 'longitude': '16.18', 'country': 'Poland'}, {'latitude': '49.08', 'city': 'Kremenchuk', 'temperature': '7.43', 'longitude': '33.43', 'country': 'Ukraine'}, {'latitude': '47.93', 'city': 'Kryvyy Rih', 'temperature': '8.61', 'longitude': '33.34', 'country': 'Ukraine'}, {'latitude': '48.00', 'city': 'Le Mans', 'temperature': '10.59', 'longitude': '0.10', 'country': 'France'}, {'latitude': '50.65', 'city': 'Lille', 'temperature': '9.65', 'longitude': '3.08', 'country': 'France'}, {'latitude': '45.83', 'city': 'Limoges', 'temperature': '10.32', 'longitude': '1.25', 'country': 'France'}, {'latitude': '48.32', 'city': 'Linz', 'temperature': '6.79', 'longitude': '14.29', 'country': 'Austria'}, {'latitude': '38.72', 'city': 'Lisbon', 'temperature': '15.52', 'longitude': '-9.14', 'country': 'Portugal'}, {'latitude': '46.06', 'city': 'Ljubljana', 'temperature': '9.27', 'longitude': '14.51', 'country': 'Slovenia'}, {'latitude': '49.83', 'city': 'Lvov', 'temperature': '7.04', 'longitude': '24.03', 'country': 'Ukraine'}, {'latitude': '50.85', 'city': 'Maastricht', 'temperature': '8.63', 'longitude': '5.68', 'country': 'Netherlands'}, {'latitude': '40.40', 'city': 'Madrid', 'temperature': '11.19', 'longitude': '-3.68', 'country': 'Spain'}, {'latitude': '52.13', 'city': 'Magdeburg', 'temperature': '8.26', 'longitude': '11.62', 'country': 'Germany'}, {'latitude': '48.03', 'city': 'Makiyivka', 'temperature': '8.70', 'longitude': '37.97', 'country': 'Ukraine'}, {'latitude': '38.37', 'city': 'Malatya', 'temperature': '14.13', 'longitude': '38.30', 'country': 'Turkey'}, {'latitude': '55.58', 'city': 'Malm\\xc3\\xb6', 'temperature': '7.33', 'longitude': '13.03', 'country': 'Sweden'}, {'latitude': '38.63', 'city': 'Manisa', 'temperature': '15.10', 'longitude': '27.44', 'country': 'Turkey'}, {'latitude': '36.52', 'city': 'Marbella', 'temperature': '17.19', 'longitude': '-4.88', 'country': 'Spain'}, {'latitude': '43.29', 'city': 'Marseille', 'temperature': '14.98', 'longitude': '5.38', 'country': 'France'}, {'latitude': '52.05', 'city': 'Mazyr', 'temperature': '6.25', 'longitude': '29.27', 'country': 'Belarus'}, {'latitude': '38.20', 'city': 'Messina', 'temperature': '16.54', 'longitude': '15.55', 'country': 'Italy'}, {'latitude': '49.12', 'city': 'Metz', 'temperature': '8.88', 'longitude': '6.18', 'country': 'France'}, {'latitude': '45.47', 'city': 'Milan', 'temperature': '6.65', 'longitude': '9.21', 'country': 'Italy'}, {'latitude': '53.90', 'city': 'Minsk', 'temperature': '5.28', 'longitude': '27.57', 'country': 'Belarus'}, {'latitude': '43.61', 'city': 'Montpellier', 'temperature': '11.11', 'longitude': '3.87', 'country': 'France'}, {'latitude': '47.75', 'city': 'Mulhouse', 'temperature': '6.68', 'longitude': '7.35', 'country': 'France'}, {'latitude': '37.98', 'city': 'Murcia', 'temperature': '15.00', 'longitude': '-1.13', 'country': 'Spain'}, {'latitude': '43.72', 'city': 'Nice', 'temperature': '8.82', 'longitude': '7.27', 'country': 'France'}, {'latitude': '43.33', 'city': 'Nis', 'temperature': '9.36', 'longitude': '21.90', 'country': 'Serbia'}, {'latitude': '45.25', 'city': 'Novi Sad', 'temperature': '10.34', 'longitude': '19.85', 'country': 'Serbia'}, {'latitude': '55.40', 'city': 'Odense', 'temperature': '7.73', 'longitude': '10.38', 'country': 'Denmark'}, {'latitude': '41.00', 'city': 'Ordu', 'temperature': '11.92', 'longitude': '37.87', 'country': 'Turkey'}, {'latitude': '54.52', 'city': 'Orsha', 'temperature': '4.93', 'longitude': '30.42', 'country': 'Belarus'}, {'latitude': '59.92', 'city': 'Oslo', 'temperature': '2.32', 'longitude': '10.75', 'country': 'Norway'}, {'latitude': '49.83', 'city': 'Ostrava', 'temperature': '7.66', 'longitude': '18.25', 'country': 'Czech Republic'}, {'latitude': '65.00', 'city': 'Oulu', 'temperature': '1.45', 'longitude': '25.47', 'country': 'Finland'}, {'latitude': '43.35', 'city': 'Oviedo', 'temperature': '10.85', 'longitude': '-5.83', 'country': 'Spain'}, {'latitude': '38.13', 'city': 'Palermo', 'temperature': '17.90', 'longitude': '13.35', 'country': 'Italy'}, {'latitude': '38.23', 'city': 'Patras', 'temperature': '16.90', 'longitude': '21.73', 'country': 'Greece'}, {'latitude': '42.70', 'city': 'Perpignan', 'temperature': '10.95', 'longitude': '2.90', 'country': 'France'}, {'latitude': '43.11', 'city': 'Perugia', 'temperature': '11.70', 'longitude': '12.39', 'country': 'Italy'}, {'latitude': '42.46', 'city': 'Pescara', 'temperature': '15.13', 'longitude': '14.22', 'country': 'Italy'}, {'latitude': '52.13', 'city': 'Pinsk', 'temperature': '6.42', 'longitude': '26.09', 'country': 'Belarus'}, {'latitude': '43.42', 'city': 'Pleven', 'temperature': '10.51', 'longitude': '24.61', 'country': 'Bulgaria'}, {'latitude': '42.15', 'city': 'Plovdiv', 'temperature': '8.27', 'longitude': '24.75', 'country': 'Bulgaria'}, {'latitude': '42.47', 'city': 'Podgorica', 'temperature': '9.99', 'longitude': '19.27', 'country': 'Montenegro'}, {'latitude': '52.41', 'city': 'Poznan', 'temperature': '8.31', 'longitude': '16.90', 'country': 'Poland'}, {'latitude': '50.08', 'city': 'Prague', 'temperature': '8.05', 'longitude': '14.47', 'country': 'Czech Republic'}, {'latitude': '49.25', 'city': 'Reims', 'temperature': '9.40', 'longitude': '4.03', 'country': 'France'}, {'latitude': '56.95', 'city': 'Riga', 'temperature': '5.16', 'longitude': '24.10', 'country': 'Latvia'}, {'latitude': '45.33', 'city': 'Rijeka', 'temperature': '9.27', 'longitude': '14.45', 'country': 'Croatia'}, {'latitude': '50.62', 'city': 'Rivne', 'temperature': '6.76', 'longitude': '26.25', 'country': 'Ukraine'}, {'latitude': '41.90', 'city': 'Rome', 'temperature': '15.10', 'longitude': '12.48', 'country': 'Italy'}, {'latitude': '54.07', 'city': 'Rostock', 'temperature': '8.07', 'longitude': '12.15', 'country': 'Germany'}, {'latitude': '43.85', 'city': 'Ruse', 'temperature': '10.59', 'longitude': '25.97', 'country': 'Bulgaria'}, {'latitude': '40.97', 'city': 'Salamanca', 'temperature': '11.63', 'longitude': '-5.67', 'country': 'Spain'}, {'latitude': '47.81', 'city': 'Salzburg', 'temperature': '4.62', 'longitude': '13.04', 'country': 'Austria'}, {'latitude': '41.28', 'city': 'Samsun', 'temperature': '12.05', 'longitude': '36.34', 'country': 'Turkey'}, {'latitude': '43.38', 'city': 'Santander', 'temperature': '13.40', 'longitude': '-3.80', 'country': 'Spain'}, {'latitude': '43.85', 'city': 'Sarajevo', 'temperature': '9.60', 'longitude': '13.38', 'country': 'Bosnia and Herzegovina'}, {'latitude': '45.80', 'city': 'Sibiu', 'temperature': '6.97', 'longitude': '24.14', 'country': 'Romania'}, {'latitude': '37.94', 'city': 'Siirt', 'temperature': '12.48', 'longitude': '41.93', 'country': 'Turkey'}, {'latitude': '39.75', 'city': 'Sivas', 'temperature': '8.05', 'longitude': '37.03', 'country': 'Turkey'}, {'latitude': '42.00', 'city': 'Skopje', 'temperature': '9.36', 'longitude': '21.43', 'country': 'Macedonia'}, {'latitude': '43.52', 'city': 'Split', 'temperature': '12.46', 'longitude': '16.47', 'country': 'Croatia'}, {'latitude': '42.42', 'city': 'Stara Zagora', 'temperature': '10.90', 'longitude': '25.62', 'country': 'Bulgaria'}, {'latitude': '58.97', 'city': 'Stavanger', 'temperature': '5.53', 'longitude': '5.68', 'country': 'Norway'}, {'latitude': '59.35', 'city': 'Stockholm', 'temperature': '6.26', 'longitude': '18.10', 'country': 'Sweden'}, {'latitude': '50.92', 'city': 'Sumy', 'temperature': '6.28', 'longitude': '34.78', 'country': 'Ukraine'}, {'latitude': '51.63', 'city': 'Swansea', 'temperature': '9.73', 'longitude': '-3.95', 'country': 'United Kingdom'}, {'latitude': '46.25', 'city': 'Szeged', 'temperature': '10.34', 'longitude': '20.15', 'country': 'Hungary'}, {'latitude': '59.43', 'city': 'Tallinn', 'temperature': '4.82', 'longitude': '24.73', 'country': 'Estonia'}, {'latitude': '61.50', 'city': 'Tampere', 'temperature': '3.59', 'longitude': '23.75', 'country': 'Finland'}, {'latitude': '36.92', 'city': 'Tarsus', 'temperature': '11.21', 'longitude': '34.88', 'country': 'Turkey'}, {'latitude': '58.38', 'city': 'Tartu', 'temperature': '4.36', 'longitude': '26.71', 'country': 'Estonia'}, {'latitude': '40.99', 'city': 'Tekirdag', 'temperature': '13.02', 'longitude': '27.51', 'country': 'Turkey'}, {'latitude': '43.62', 'city': 'Toulouse', 'temperature': '10.25', 'longitude': '1.45', 'country': 'France'}, {'latitude': '40.98', 'city': 'Trabzon', 'temperature': '10.28', 'longitude': '39.72', 'country': 'Turkey'}, {'latitude': '45.65', 'city': 'Trieste', 'temperature': '11.21', 'longitude': '13.80', 'country': 'Italy'}, {'latitude': '39.56', 'city': 'Trikala', 'temperature': '16.00', 'longitude': '21.77', 'country': 'Greece'}, {'latitude': '63.42', 'city': 'Trondheim', 'temperature': '4.53', 'longitude': '10.42', 'country': 'Norway'}, {'latitude': '60.45', 'city': 'Turku', 'temperature': '4.72', 'longitude': '22.25', 'country': 'Finland'}, {'latitude': '59.86', 'city': 'Uppsala', 'temperature': '4.17', 'longitude': '17.64', 'country': 'Sweden'}, {'latitude': '39.49', 'city': 'Valencia', 'temperature': '16.02', 'longitude': '-0.40', 'country': 'Spain'}, {'latitude': '48.20', 'city': 'Vienna', 'temperature': '7.86', 'longitude': '16.37', 'country': 'Austria'}, {'latitude': '42.22', 'city': 'Vigo', 'temperature': '12.85', 'longitude': '-8.73', 'country': 'Spain'}, {'latitude': '54.68', 'city': 'Vilnius', 'temperature': '5.38', 'longitude': '25.32', 'country': 'Lithuania'}, {'latitude': '52.25', 'city': 'Warsaw', 'temperature': '7.20', 'longitude': '21.00', 'country': 'Poland'}, {'latitude': '51.11', 'city': 'Wroclaw', 'temperature': '7.17', 'longitude': '17.03', 'country': 'Poland'}, {'latitude': '45.20', 'city': 'Yevpatoriya', 'temperature': '10.02', 'longitude': '33.36', 'country': 'Ukraine'}, {'latitude': '41.65', 'city': 'Zaragoza', 'temperature': '14.17', 'longitude': '-0.89', 'country': 'Spain'}, {'latitude': '50.25', 'city': 'Zhytomyr', 'temperature': '6.67', 'longitude': '28.66', 'country': 'Ukraine'}, {'latitude': '41.43', 'city': 'Zonguldak', 'temperature': '10.64', 'longitude': '31.78', 'country': 'Turkey'}, {'latitude': '47.38', 'city': 'Zurich', 'temperature': '6.68', 'longitude': '8.56', 'country': 'Switzerland'}]\n"
     ]
    }
   ],
   "source": [
    "# Read Cities.csv data into list of dictionaries\n",
    "cities = []\n",
    "with open('Cities.csv') as f:\n",
    "    rows = csv.DictReader(f)\n",
    "    for r in rows:\n",
    "        cities.append(r)\n",
    "print cities"
   ]
  },
  {
   "cell_type": "code",
   "execution_count": 20,
   "metadata": {
    "collapsed": false
   },
   "outputs": [
    {
     "name": "stdout",
     "output_type": "stream",
     "text": [
      "Aalborg yes\n",
      "Aberdeen yes\n",
      "Abisko yes\n",
      "Adana no\n",
      "Albacete yes\n",
      "Algeciras yes\n",
      "Amiens yes\n",
      "Amsterdam yes\n",
      "Ancona yes\n",
      "Andorra no\n",
      "Angers yes\n",
      "Ankara no\n",
      "Antalya no\n",
      "Arad yes\n",
      "Athens yes\n",
      "Augsburg yes\n",
      "Bacau yes\n",
      "Badajoz yes\n",
      "Baia Mare yes\n",
      "Balti no\n",
      "Barcelona yes\n",
      "Bari yes\n",
      "Basel no\n",
      "Batman no\n",
      "Belfast yes\n",
      "Belgrade no\n",
      "Bergamo yes\n",
      "Bergen no\n",
      "Berlin yes\n",
      "Bialystok yes\n",
      "Bielefeld yes\n",
      "Bila Tserkva no\n",
      "Bilbao yes\n",
      "Birmingham yes\n",
      "Blackpool yes\n",
      "Bodo no\n",
      "Bologna yes\n",
      "Bonn yes\n",
      "Bordeaux yes\n",
      "Botosani yes\n",
      "Bournemouth yes\n",
      "Bradford yes\n",
      "Braga yes\n",
      "Braila yes\n",
      "Bratislava yes\n",
      "Bremen yes\n",
      "Brest yes\n",
      "Brest no\n",
      "Brno yes\n",
      "Brugge yes\n",
      "Bucharest yes\n",
      "Budapest yes\n",
      "Burgas yes\n",
      "Burgos yes\n",
      "Bursa no\n",
      "Bydgoszcz yes\n",
      "Bytom yes\n",
      "Caen yes\n",
      "Cambridge yes\n",
      "Cartagena yes\n",
      "Catania yes\n",
      "Chemnitz yes\n",
      "Cherkasy no\n",
      "Chernihiv no\n",
      "Chernivtsi no\n",
      "Chisinau no\n",
      "Constanta yes\n",
      "Cork yes\n",
      "Cosenza yes\n",
      "Craiova yes\n",
      "Daugavpils yes\n",
      "Debrecen yes\n",
      "Denizli no\n",
      "Dijon yes\n",
      "Dublin yes\n",
      "Dundee yes\n",
      "Edinburgh yes\n",
      "Edirne no\n",
      "Elbasan no\n",
      "Elblag yes\n",
      "Erfurt yes\n",
      "Erzincan no\n",
      "Erzurum no\n",
      "Eskisehir no\n",
      "Exeter yes\n",
      "Foggia yes\n",
      "Frankfurt yes\n",
      "Freiburg yes\n",
      "Galway yes\n",
      "Gaziantep no\n",
      "Geneva no\n",
      "Genoa yes\n",
      "Glasgow yes\n",
      "Göteborg yes\n",
      "Granada yes\n",
      "Graz yes\n",
      "Grenoble yes\n",
      "Groningen yes\n",
      "Gyor yes\n",
      "Heidelberg yes\n",
      "Helsinki yes\n",
      "Horlivka no\n",
      "Hrodna no\n",
      "Huelva yes\n",
      "Ingolstadt yes\n",
      "Innsbruck yes\n",
      "Inverness yes\n",
      "Istanbul no\n",
      "Kalamata yes\n",
      "Karaman no\n",
      "Karlsruhe yes\n",
      "Kaunas yes\n",
      "Kayseri no\n",
      "Kherson no\n",
      "Kielce yes\n",
      "Kiev no\n",
      "Kiruna yes\n",
      "Klaipeda yes\n",
      "Kosice yes\n",
      "Koszalin yes\n",
      "Kremenchuk no\n",
      "Kryvyy Rih no\n",
      "Le Mans yes\n",
      "Lille yes\n",
      "Limoges yes\n",
      "Linz yes\n",
      "Lisbon yes\n",
      "Ljubljana yes\n",
      "Lvov no\n",
      "Maastricht yes\n",
      "Madrid yes\n",
      "Magdeburg yes\n",
      "Makiyivka no\n",
      "Malatya no\n",
      "Malmö yes\n",
      "Manisa no\n",
      "Marbella yes\n",
      "Marseille yes\n",
      "Mazyr no\n",
      "Messina yes\n",
      "Metz yes\n",
      "Milan yes\n",
      "Minsk no\n",
      "Montpellier yes\n",
      "Mulhouse yes\n",
      "Murcia yes\n",
      "Nice yes\n",
      "Nis no\n",
      "Novi Sad no\n",
      "Odense yes\n",
      "Ordu no\n",
      "Orsha no\n",
      "Oslo no\n",
      "Ostrava yes\n",
      "Oulu yes\n",
      "Oviedo yes\n",
      "Palermo yes\n",
      "Patras yes\n",
      "Perpignan yes\n",
      "Perugia yes\n",
      "Pescara yes\n",
      "Pinsk no\n",
      "Pleven yes\n",
      "Plovdiv yes\n",
      "Podgorica no\n",
      "Poznan yes\n",
      "Prague yes\n",
      "Reims yes\n",
      "Riga yes\n",
      "Rijeka yes\n",
      "Rivne no\n",
      "Rome yes\n",
      "Rostock yes\n",
      "Ruse yes\n",
      "Salamanca yes\n",
      "Salzburg yes\n",
      "Samsun no\n",
      "Santander yes\n",
      "Sarajevo no\n",
      "Sibiu yes\n",
      "Siirt no\n",
      "Sivas no\n",
      "Skopje no\n",
      "Split yes\n",
      "Stara Zagora yes\n",
      "Stavanger no\n",
      "Stockholm yes\n",
      "Sumy no\n",
      "Swansea yes\n",
      "Szeged yes\n",
      "Tallinn yes\n",
      "Tampere yes\n",
      "Tarsus no\n",
      "Tartu yes\n",
      "Tekirdag no\n",
      "Toulouse yes\n",
      "Trabzon no\n",
      "Trieste yes\n",
      "Trikala yes\n",
      "Trondheim no\n",
      "Turku yes\n",
      "Uppsala yes\n",
      "Valencia yes\n",
      "Vienna yes\n",
      "Vigo yes\n",
      "Vilnius yes\n",
      "Warsaw yes\n",
      "Wroclaw yes\n",
      "Yevpatoriya no\n",
      "Zaragoza yes\n",
      "Zhytomyr no\n",
      "Zonguldak no\n",
      "Zurich no\n"
     ]
    }
   ],
   "source": [
    "# Perform join of cities and countries, print city and whether in EU\n",
    "cities = []\n",
    "countries = []\n",
    "with open('Cities.csv') as f:\n",
    "    rows = csv.DictReader(f)\n",
    "    for r in rows:\n",
    "        cities.append(r)\n",
    "with open('Countries.csv') as f:\n",
    "    rows = csv.DictReader(f)\n",
    "    for r in rows:\n",
    "        countries.append(r)\n",
    "for city in cities:\n",
    "    for country in countries:\n",
    "        if city['country'] == country['country']:\n",
    "            print city['city'], country['EU']"
   ]
  },
  {
   "cell_type": "code",
   "execution_count": 21,
   "metadata": {
    "collapsed": false
   },
   "outputs": [
    {
     "name": "stdout",
     "output_type": "stream",
     "text": [
      "9.49784037559\n"
     ]
    }
   ],
   "source": [
    "# Compute overall average city temperature\n",
    "temps = []\n",
    "with open('Cities.csv') as f:\n",
    "    rows = csv.DictReader(f)\n",
    "    for r in rows:\n",
    "        temps.append(float(r['temperature'])) \n",
    "print sum(temps)/len(temps)"
   ]
  },
  {
   "cell_type": "code",
   "execution_count": 22,
   "metadata": {
    "collapsed": false
   },
   "outputs": [
    {
     "name": "stdout",
     "output_type": "stream",
     "text": [
      "Turkey 11.7266666667\n",
      "Italy 13.4746666667\n",
      "Czech Republic 7.85666666667\n",
      "Lithuania 6.14333333333\n",
      "France 10.1511111111\n",
      "Andorra 9.6\n",
      "Slovakia 8.48\n",
      "Ireland 9.3\n",
      "Norway 3.726\n",
      "Belarus 5.94666666667\n",
      "Montenegro 9.99\n",
      "Slovenia 9.27\n",
      "Germany 7.86928571429\n",
      "Bosnia and Herzegovina 9.6\n",
      "Belgium 9.65\n",
      "Spain 14.2383333333\n",
      "Ukraine 7.42\n",
      "Netherlands 8.75666666667\n",
      "Denmark 7.625\n",
      "Poland 7.25\n",
      "Finland 3.4875\n",
      "Macedonia 9.36\n",
      "Moldova 8.415\n",
      "Sweden 3.58666666667\n",
      "Latvia 5.27\n",
      "Croatia 10.865\n",
      "Switzerland 7.25333333333\n",
      "Bulgaria 10.44\n",
      "Romania 9.22444444444\n",
      "Albania 15.18\n",
      "Estonia 4.59\n",
      "Portugal 14.47\n",
      "Serbia 9.85\n",
      "United Kingdom 8.65\n",
      "Austria 6.144\n",
      "Greece 16.9025\n",
      "Hungary 9.6025\n"
     ]
    }
   ],
   "source": [
    "# Compute average city temperature for each country\n",
    "# Lots to notice here in terms of using dictionaries!\n",
    "sums = {} # dictionary with key = country and value = sum of temperatures\n",
    "counts = {} # dictionary with key = country and value = number of cities\n",
    "with open('Cities.csv') as f:\n",
    "    rows = csv.DictReader(f)\n",
    "    for r in rows:\n",
    "        if r['country'] in sums:\n",
    "            sums[r['country']] += float(r['temperature'])\n",
    "            counts[r['country']] += 1\n",
    "        else:\n",
    "            sums[r['country']] = float(r['temperature'])\n",
    "            counts[r['country']] = 1\n",
    "for country in sums:\n",
    "    print country, sums[country]/counts[country]"
   ]
  },
  {
   "cell_type": "markdown",
   "metadata": {},
   "source": [
    "### <font color=\"green\">Your Turn</font>"
   ]
  },
  {
   "cell_type": "code",
   "execution_count": 24,
   "metadata": {
    "collapsed": false,
    "scrolled": true
   },
   "outputs": [
    {
     "name": "stdout",
     "output_type": "stream",
     "text": [
      "Avg latitude:  48.1964666667\n",
      "Avg longitude:  10.3597333333\n"
     ]
    }
   ],
   "source": [
    "# Compute the average longitude and average latitude of all\n",
    "# cities that are in an EU country. Print the two values.\n",
    "# Initial code is provided to create cities and countries lists:\n",
    "cities = []\n",
    "countries = []\n",
    "with open('Cities.csv') as f:\n",
    "    rows = csv.DictReader(f)\n",
    "    for r in rows:\n",
    "        cities.append(r)\n",
    "with open('Countries.csv') as f:\n",
    "    rows = csv.DictReader(f)\n",
    "    for r in rows:\n",
    "        countries.append(r)\n",
    "# Recommendation:\n",
    "lats = [] # create list of latitudes of cities in an EU country\n",
    "longs = [] # create list of longitudes of cities in an EU country\n",
    "# your code here\n",
    "\n",
    "for city in cities:\n",
    "    for country in countries:\n",
    "        if city['country'] == country['country'] and country['EU']=='yes':\n",
    "            lats.append(float(city['latitude']))\n",
    "            longs.append(float(city['longitude']))\n",
    "    \n",
    "print 'Avg latitude: ', sum(lats)/len(lats)\n",
    "print 'Avg longitude: ', sum(longs)/len(longs)"
   ]
  },
  {
   "cell_type": "markdown",
   "metadata": {},
   "source": [
    "### Computing average directly using NumPy package"
   ]
  },
  {
   "cell_type": "code",
   "execution_count": 25,
   "metadata": {
    "collapsed": true
   },
   "outputs": [],
   "source": [
    "import numpy as np"
   ]
  },
  {
   "cell_type": "code",
   "execution_count": 26,
   "metadata": {
    "collapsed": false
   },
   "outputs": [
    {
     "name": "stdout",
     "output_type": "stream",
     "text": [
      "9.49784037559\n"
     ]
    }
   ],
   "source": [
    "# Compute overall average city temperature\n",
    "temps = []\n",
    "with open('Cities.csv') as f:\n",
    "    rows = csv.DictReader(f)\n",
    "    for r in rows:\n",
    "        temps.append(float(r['temperature'])) \n",
    "print np.average(temps)"
   ]
  },
  {
   "cell_type": "code",
   "execution_count": 28,
   "metadata": {
    "collapsed": false
   },
   "outputs": [
    {
     "name": "stdout",
     "output_type": "stream",
     "text": [
      "Turkey 11.7266666667\n",
      "Italy 13.4746666667\n",
      "Czech Republic 7.85666666667\n",
      "Lithuania 6.14333333333\n",
      "France 10.1511111111\n",
      "Andorra 9.6\n",
      "Slovakia 8.48\n",
      "Ireland 9.3\n",
      "Norway 3.726\n",
      "Belarus 5.94666666667\n",
      "Montenegro 9.99\n",
      "Slovenia 9.27\n",
      "Germany 7.86928571429\n",
      "Bosnia and Herzegovina 9.6\n",
      "Belgium 9.65\n",
      "Spain 14.2383333333\n",
      "Ukraine 7.42\n",
      "Netherlands 8.75666666667\n",
      "Denmark 7.625\n",
      "Poland 7.25\n",
      "Finland 3.4875\n",
      "Macedonia 9.36\n",
      "Moldova 8.415\n",
      "Sweden 3.58666666667\n",
      "Latvia 5.27\n",
      "Croatia 10.865\n",
      "Switzerland 7.25333333333\n",
      "Bulgaria 10.44\n",
      "Romania 9.22444444444\n",
      "Albania 15.18\n",
      "Estonia 4.59\n",
      "Portugal 14.47\n",
      "Serbia 9.85\n",
      "United Kingdom 8.65\n",
      "Austria 6.144\n",
      "Greece 16.9025\n",
      "Hungary 9.6025\n",
      "{'Turkey': [18.67, 9.86, 11.88, 14.16, 11.16, 15.02, 10.9, 8.67, 5.17, 11.11, 13.46, 13.2, 10.41, 8.89, 14.13, 15.1, 11.92, 12.05, 12.48, 8.05, 11.21, 13.02, 10.28, 10.64], 'Italy': [13.52, 15.15, 9.12, 11.69, 15.04, 16.6, 13.83, 12.94, 16.54, 6.65, 17.9, 11.7, 15.13, 15.1, 11.21], 'Czech Republic': [7.86, 7.66, 8.05], 'Lithuania': [6.05, 7.0, 5.38], 'France': [10.17, 10.98, 11.87, 11.02, 9.96, 8.69, 8.4, 10.59, 9.65, 10.32, 14.98, 8.88, 11.11, 6.68, 8.82, 10.95, 9.4, 10.25], 'Andorra': [9.6], 'Slovakia': [9.65, 7.31], 'Ireland': [9.41, 8.49, 10.0], 'Norway': [1.75, 4.5, 2.32, 5.53, 4.53], 'Belarus': [6.73, 6.07, 6.25, 5.28, 4.93, 6.42], 'Montenegro': [9.99], 'Slovenia': [9.27], 'Germany': [4.54, 8.72, 8.78, 8.63, 8.14, 8.05, 7.4, 7.98, 6.68, 8.47, 7.57, 8.88, 8.26, 8.07], 'Bosnia and Herzegovina': [9.6], 'Belgium': [9.65], 'Spain': [12.62, 17.38, 15.61, 15.78, 11.41, 10.45, 17.32, 16.33, 17.09, 11.19, 17.19, 15.0, 10.85, 11.63, 13.4, 16.02, 12.85, 14.17], 'Ukraine': [6.98, 7.19, 5.92, 7.06, 7.12, 8.64, 6.88, 7.43, 8.61, 7.04, 8.7, 6.76, 6.28, 10.02, 6.67], 'Netherlands': [8.93, 8.71, 8.63], 'Denmark': [7.52, 7.73], 'Poland': [6.07, 7.14, 7.66, 6.68, 7.29, 7.73, 8.31, 7.2, 7.17], 'Finland': [4.19, 1.45, 3.59, 4.72], 'Macedonia': [9.36], 'Moldova': [8.23, 8.6], 'Sweden': [0.2, 5.76, -2.2, 7.33, 6.26, 4.17], 'Latvia': [5.38, 5.16], 'Croatia': [9.27, 12.46], 'Switzerland': [6.68, 8.4, 6.68], 'Bulgaria': [11.93, 10.51, 8.27, 10.59, 10.9], 'Romania': [9.32, 7.51, 8.87, 8.23, 9.78, 10.59, 11.24, 10.51, 6.97], 'Albania': [15.18], 'Estonia': [4.82, 4.36], 'Portugal': [13.42, 15.52], 'Serbia': [9.85, 9.36, 10.34], 'United Kingdom': [8.1, 8.48, 8.81, 9.15, 9.97, 8.39, 9.25, 6.4, 7.43, 10.14, 8.6, 8.0, 9.73], 'Austria': [6.91, 4.54, 6.79, 4.62, 7.86], 'Greece': [17.41, 17.3, 16.9, 16.0], 'Hungary': [9.55, 8.87, 9.65, 10.34]}\n"
     ]
    }
   ],
   "source": [
    "# Compute average city temperature for each country\n",
    "temps = {} # dictionary with key = country and value = list of temperatures\n",
    "with open('Cities.csv') as f:\n",
    "    rows = csv.DictReader(f)\n",
    "    for r in rows:\n",
    "        if r['country'] in temps:\n",
    "            temps[r['country']].append(float(r['temperature']))\n",
    "        else:\n",
    "            temps[r['country']] = [float(r['temperature'])]\n",
    "for country in temps:\n",
    "    print country, np.average(temps[country])\n",
    "    \n",
    "print temps"
   ]
  },
  {
   "cell_type": "markdown",
   "metadata": {},
   "source": [
    "### Minimum and maximum"
   ]
  },
  {
   "cell_type": "code",
   "execution_count": 29,
   "metadata": {
    "collapsed": false
   },
   "outputs": [
    {
     "name": "stdout",
     "output_type": "stream",
     "text": [
      "Minimum: -2.2\n",
      "Maximum: 18.67\n"
     ]
    }
   ],
   "source": [
    "# Overall minimum and maximum temperatures\n",
    "temps = [] # list of all temperatures\n",
    "with open('Cities.csv') as f:\n",
    "    rows = csv.DictReader(f)\n",
    "    for r in rows:\n",
    "        temps.append(float(r['temperature']))\n",
    "print 'Minimum:', min(temps)\n",
    "print 'Maximum:', max(temps)"
   ]
  },
  {
   "cell_type": "code",
   "execution_count": 30,
   "metadata": {
    "collapsed": false
   },
   "outputs": [
    {
     "name": "stdout",
     "output_type": "stream",
     "text": [
      "Minimum: -2.2\n",
      "Maximum: 18.67\n"
     ]
    }
   ],
   "source": [
    "# Alternative method\n",
    "min = 100.00 # greater than any possible minimum\n",
    "max = -100.00 # smaller than any possible maximum\n",
    "with open('Cities.csv') as f:\n",
    "    rows = csv.DictReader(f)\n",
    "    for r in rows:\n",
    "        if float(r['temperature']) < min:\n",
    "            min = float(r['temperature'])\n",
    "        if float(r['temperature']) > max:\n",
    "            max = float(r['temperature'])\n",
    "print 'Minimum:', min\n",
    "print 'Maximum:', max"
   ]
  },
  {
   "cell_type": "markdown",
   "metadata": {},
   "source": [
    "### <font color=\"green\">Your Turn</font>"
   ]
  },
  {
   "cell_type": "code",
   "execution_count": 34,
   "metadata": {
    "collapsed": false,
    "scrolled": true
   },
   "outputs": [
    {
     "name": "stdout",
     "output_type": "stream",
     "text": [
      "Turkey\n",
      "Italy\n",
      "Czech Republic\n",
      "Lithuania\n",
      "France\n",
      "Andorra\n",
      "Slovakia\n",
      "Ireland\n",
      "Norway\n",
      "Belarus\n",
      "Montenegro\n",
      "Slovenia\n",
      "Germany\n",
      "Bosnia and Herzegovina\n",
      "Belgium\n",
      "Spain\n",
      "Ukraine\n",
      "Netherlands\n",
      "Denmark\n",
      "Poland\n",
      "Finland\n",
      "Macedonia\n",
      "Moldova\n",
      "Sweden\n",
      "Latvia\n",
      "Croatia\n",
      "Switzerland\n",
      "Bulgaria\n",
      "Romania\n",
      "Albania\n",
      "Estonia\n",
      "Portugal\n",
      "Serbia\n",
      "United Kingdom\n",
      "Austria\n",
      "Greece\n",
      "Hungary\n",
      "Finland Greece\n"
     ]
    }
   ],
   "source": [
    "# Determine which country has the lowest average city temperature\n",
    "# and which country has the highest average city temperature.\n",
    "# Print the two countries.\n",
    "# Hint: Start with code above that computes average temperatures\n",
    "# for each country, then adapt the second min/max method.\n",
    "# Suggestion: Get lowest working then add highest\n",
    "# Compute average city temperature for each country\n",
    "temps = {} # dictionary with key = country and value = list of temperatures\n",
    "with open('Cities.csv') as f:\n",
    "    rows = csv.DictReader(f)\n",
    "    for r in rows:\n",
    "        if r['country'] in temps:\n",
    "            temps[r['country']].append(float(r['temperature']))\n",
    "        else:\n",
    "            temps[r['country']] = [float(r['temperature'])]\n",
    "\n",
    "min = 100.00\n",
    "max = -100.00\n",
    "min_country = ''\n",
    "max_country = ''\n",
    "\n",
    "for country in temps:\n",
    "    print country\n",
    "    if float(np.average(temps[country])) < min:\n",
    "        min = float(np.average(temps[country]))\n",
    "        min_country = country\n",
    "    if float(np.average(temps[country])) > max:\n",
    "        max = float(np.average(temps[country]))\n",
    "        max_country = country\n",
    "\n",
    "print min_country, max_country\n"
   ]
  },
  {
   "cell_type": "markdown",
   "metadata": {},
   "source": [
    "### <font color=\"green\">Your Turn: World Cup Data</font>"
   ]
  },
  {
   "cell_type": "code",
   "execution_count": null,
   "metadata": {
    "collapsed": false
   },
   "outputs": [],
   "source": [
    "# What player on a team with “ia” in the team name played less than\n",
    "# 200 minutes and made more than 100 passes? Print the player surname.\n",
    "# Note: In Python, use \"'abc' in s\" to check whether string s contains'abc'\n",
    "# Reminder: Convert minutes and passes to integers before comparing to values"
   ]
  },
  {
   "cell_type": "code",
   "execution_count": null,
   "metadata": {
    "collapsed": false
   },
   "outputs": [],
   "source": [
    "# What is the average number of passes made by defenders? By forwards?"
   ]
  },
  {
   "cell_type": "code",
   "execution_count": null,
   "metadata": {
    "collapsed": false
   },
   "outputs": [],
   "source": [
    "# Which team has the highest ratio of goalsFor to goalsAgainst?\n",
    "# Print the team name only.\n",
    "# Reminder: Use float() to make sure you're doing floating point division\n",
    "# Hint: Use two variables to keep track of highest ratio seen so far\n",
    "# and team with that ratio:\n",
    "ratio = 0 # highest ratio seen so far\n",
    "team = '' # team with highest ratio\n",
    "# Your code here"
   ]
  },
  {
   "cell_type": "code",
   "execution_count": null,
   "metadata": {
    "collapsed": false
   },
   "outputs": [],
   "source": [
    "# How many players on a team with ranking <10 played more than 350 minutes?\n",
    "# Reminder: Convert ranking and minutes to integers before comparing to values\n",
    "# Hint: Compute join of Players and Teams, using a variable to count number of\n",
    "# players satisfying requirement"
   ]
  },
  {
   "cell_type": "code",
   "execution_count": null,
   "metadata": {
    "collapsed": false
   },
   "outputs": [],
   "source": [
    "# BONUS!\n",
    "# Write a loop that interactively asks the user to enter a team name.\n",
    "# If the team exists, print how many games the team played, how many\n",
    "# yellow cards and red cards the team had, and the average number of\n",
    "# minutes played by players on that team.\n",
    "# If the team doesn't exist, print \"Team not in 2010 World Cup\".\n",
    "# If 'quit' is entered, terminate the loop.\n",
    "# Note: To read a string from the user instead of a number, use\n",
    "# raw_input() instead of input()"
   ]
  }
 ],
 "metadata": {
  "kernelspec": {
   "display_name": "Python [default]",
   "language": "python",
   "name": "python2"
  },
  "language_info": {
   "codemirror_mode": {
    "name": "ipython",
    "version": 2
   },
   "file_extension": ".py",
   "mimetype": "text/x-python",
   "name": "python",
   "nbconvert_exporter": "python",
   "pygments_lexer": "ipython2",
   "version": "2.7.12"
  }
 },
 "nbformat": 4,
 "nbformat_minor": 0
}

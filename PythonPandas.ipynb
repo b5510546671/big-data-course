{
 "cells": [
  {
   "cell_type": "markdown",
   "metadata": {},
   "source": [
    "### Python pandas library - storing and manipulating data in \"dataframes\" (tables)"
   ]
  },
  {
   "cell_type": "code",
   "execution_count": 1,
   "metadata": {
    "collapsed": false
   },
   "outputs": [],
   "source": [
    "import pandas as pd"
   ]
  },
  {
   "cell_type": "markdown",
   "metadata": {},
   "source": [
    "### Reading from CSV file into dataframe"
   ]
  },
  {
   "cell_type": "code",
   "execution_count": 2,
   "metadata": {
    "collapsed": false
   },
   "outputs": [
    {
     "data": {
      "text/html": [
       "<div>\n",
       "<table border=\"1\" class=\"dataframe\">\n",
       "  <thead>\n",
       "    <tr style=\"text-align: right;\">\n",
       "      <th></th>\n",
       "      <th>city</th>\n",
       "      <th>country</th>\n",
       "      <th>latitude</th>\n",
       "      <th>longitude</th>\n",
       "      <th>temperature</th>\n",
       "    </tr>\n",
       "  </thead>\n",
       "  <tbody>\n",
       "    <tr>\n",
       "      <th>0</th>\n",
       "      <td>Aalborg</td>\n",
       "      <td>Denmark</td>\n",
       "      <td>57.03</td>\n",
       "      <td>9.92</td>\n",
       "      <td>7.52</td>\n",
       "    </tr>\n",
       "    <tr>\n",
       "      <th>1</th>\n",
       "      <td>Aberdeen</td>\n",
       "      <td>United Kingdom</td>\n",
       "      <td>57.17</td>\n",
       "      <td>-2.08</td>\n",
       "      <td>8.10</td>\n",
       "    </tr>\n",
       "    <tr>\n",
       "      <th>2</th>\n",
       "      <td>Abisko</td>\n",
       "      <td>Sweden</td>\n",
       "      <td>63.35</td>\n",
       "      <td>18.83</td>\n",
       "      <td>0.20</td>\n",
       "    </tr>\n",
       "    <tr>\n",
       "      <th>3</th>\n",
       "      <td>Adana</td>\n",
       "      <td>Turkey</td>\n",
       "      <td>36.99</td>\n",
       "      <td>35.32</td>\n",
       "      <td>18.67</td>\n",
       "    </tr>\n",
       "    <tr>\n",
       "      <th>4</th>\n",
       "      <td>Albacete</td>\n",
       "      <td>Spain</td>\n",
       "      <td>39.00</td>\n",
       "      <td>-1.87</td>\n",
       "      <td>12.62</td>\n",
       "    </tr>\n",
       "    <tr>\n",
       "      <th>5</th>\n",
       "      <td>Algeciras</td>\n",
       "      <td>Spain</td>\n",
       "      <td>36.13</td>\n",
       "      <td>-5.47</td>\n",
       "      <td>17.38</td>\n",
       "    </tr>\n",
       "    <tr>\n",
       "      <th>6</th>\n",
       "      <td>Amiens</td>\n",
       "      <td>France</td>\n",
       "      <td>49.90</td>\n",
       "      <td>2.30</td>\n",
       "      <td>10.17</td>\n",
       "    </tr>\n",
       "    <tr>\n",
       "      <th>7</th>\n",
       "      <td>Amsterdam</td>\n",
       "      <td>Netherlands</td>\n",
       "      <td>52.35</td>\n",
       "      <td>4.92</td>\n",
       "      <td>8.93</td>\n",
       "    </tr>\n",
       "    <tr>\n",
       "      <th>8</th>\n",
       "      <td>Ancona</td>\n",
       "      <td>Italy</td>\n",
       "      <td>43.60</td>\n",
       "      <td>13.50</td>\n",
       "      <td>13.52</td>\n",
       "    </tr>\n",
       "    <tr>\n",
       "      <th>9</th>\n",
       "      <td>Andorra</td>\n",
       "      <td>Andorra</td>\n",
       "      <td>42.50</td>\n",
       "      <td>1.52</td>\n",
       "      <td>9.60</td>\n",
       "    </tr>\n",
       "    <tr>\n",
       "      <th>10</th>\n",
       "      <td>Angers</td>\n",
       "      <td>France</td>\n",
       "      <td>47.48</td>\n",
       "      <td>-0.53</td>\n",
       "      <td>10.98</td>\n",
       "    </tr>\n",
       "    <tr>\n",
       "      <th>11</th>\n",
       "      <td>Ankara</td>\n",
       "      <td>Turkey</td>\n",
       "      <td>39.93</td>\n",
       "      <td>32.86</td>\n",
       "      <td>9.86</td>\n",
       "    </tr>\n",
       "    <tr>\n",
       "      <th>12</th>\n",
       "      <td>Antalya</td>\n",
       "      <td>Turkey</td>\n",
       "      <td>36.89</td>\n",
       "      <td>30.70</td>\n",
       "      <td>11.88</td>\n",
       "    </tr>\n",
       "    <tr>\n",
       "      <th>13</th>\n",
       "      <td>Arad</td>\n",
       "      <td>Romania</td>\n",
       "      <td>46.17</td>\n",
       "      <td>21.32</td>\n",
       "      <td>9.32</td>\n",
       "    </tr>\n",
       "    <tr>\n",
       "      <th>14</th>\n",
       "      <td>Athens</td>\n",
       "      <td>Greece</td>\n",
       "      <td>37.98</td>\n",
       "      <td>23.73</td>\n",
       "      <td>17.41</td>\n",
       "    </tr>\n",
       "    <tr>\n",
       "      <th>15</th>\n",
       "      <td>Augsburg</td>\n",
       "      <td>Germany</td>\n",
       "      <td>48.35</td>\n",
       "      <td>10.90</td>\n",
       "      <td>4.54</td>\n",
       "    </tr>\n",
       "    <tr>\n",
       "      <th>16</th>\n",
       "      <td>Bacau</td>\n",
       "      <td>Romania</td>\n",
       "      <td>46.58</td>\n",
       "      <td>26.92</td>\n",
       "      <td>7.51</td>\n",
       "    </tr>\n",
       "    <tr>\n",
       "      <th>17</th>\n",
       "      <td>Badajoz</td>\n",
       "      <td>Spain</td>\n",
       "      <td>38.88</td>\n",
       "      <td>-6.97</td>\n",
       "      <td>15.61</td>\n",
       "    </tr>\n",
       "    <tr>\n",
       "      <th>18</th>\n",
       "      <td>Baia Mare</td>\n",
       "      <td>Romania</td>\n",
       "      <td>47.66</td>\n",
       "      <td>23.58</td>\n",
       "      <td>8.87</td>\n",
       "    </tr>\n",
       "    <tr>\n",
       "      <th>19</th>\n",
       "      <td>Balti</td>\n",
       "      <td>Moldova</td>\n",
       "      <td>47.76</td>\n",
       "      <td>27.91</td>\n",
       "      <td>8.23</td>\n",
       "    </tr>\n",
       "    <tr>\n",
       "      <th>20</th>\n",
       "      <td>Barcelona</td>\n",
       "      <td>Spain</td>\n",
       "      <td>41.38</td>\n",
       "      <td>2.18</td>\n",
       "      <td>15.78</td>\n",
       "    </tr>\n",
       "    <tr>\n",
       "      <th>21</th>\n",
       "      <td>Bari</td>\n",
       "      <td>Italy</td>\n",
       "      <td>41.11</td>\n",
       "      <td>16.87</td>\n",
       "      <td>15.15</td>\n",
       "    </tr>\n",
       "    <tr>\n",
       "      <th>22</th>\n",
       "      <td>Basel</td>\n",
       "      <td>Switzerland</td>\n",
       "      <td>47.58</td>\n",
       "      <td>7.59</td>\n",
       "      <td>6.68</td>\n",
       "    </tr>\n",
       "    <tr>\n",
       "      <th>23</th>\n",
       "      <td>Batman</td>\n",
       "      <td>Turkey</td>\n",
       "      <td>37.89</td>\n",
       "      <td>41.14</td>\n",
       "      <td>14.16</td>\n",
       "    </tr>\n",
       "    <tr>\n",
       "      <th>24</th>\n",
       "      <td>Belfast</td>\n",
       "      <td>United Kingdom</td>\n",
       "      <td>54.60</td>\n",
       "      <td>-5.96</td>\n",
       "      <td>8.48</td>\n",
       "    </tr>\n",
       "    <tr>\n",
       "      <th>25</th>\n",
       "      <td>Belgrade</td>\n",
       "      <td>Serbia</td>\n",
       "      <td>44.82</td>\n",
       "      <td>20.47</td>\n",
       "      <td>9.85</td>\n",
       "    </tr>\n",
       "    <tr>\n",
       "      <th>26</th>\n",
       "      <td>Bergamo</td>\n",
       "      <td>Italy</td>\n",
       "      <td>45.70</td>\n",
       "      <td>9.67</td>\n",
       "      <td>9.12</td>\n",
       "    </tr>\n",
       "    <tr>\n",
       "      <th>27</th>\n",
       "      <td>Bergen</td>\n",
       "      <td>Norway</td>\n",
       "      <td>60.39</td>\n",
       "      <td>5.32</td>\n",
       "      <td>1.75</td>\n",
       "    </tr>\n",
       "    <tr>\n",
       "      <th>28</th>\n",
       "      <td>Berlin</td>\n",
       "      <td>Germany</td>\n",
       "      <td>52.52</td>\n",
       "      <td>13.40</td>\n",
       "      <td>8.72</td>\n",
       "    </tr>\n",
       "    <tr>\n",
       "      <th>29</th>\n",
       "      <td>Bialystok</td>\n",
       "      <td>Poland</td>\n",
       "      <td>53.15</td>\n",
       "      <td>23.17</td>\n",
       "      <td>6.07</td>\n",
       "    </tr>\n",
       "    <tr>\n",
       "      <th>...</th>\n",
       "      <td>...</td>\n",
       "      <td>...</td>\n",
       "      <td>...</td>\n",
       "      <td>...</td>\n",
       "      <td>...</td>\n",
       "    </tr>\n",
       "    <tr>\n",
       "      <th>183</th>\n",
       "      <td>Split</td>\n",
       "      <td>Croatia</td>\n",
       "      <td>43.52</td>\n",
       "      <td>16.47</td>\n",
       "      <td>12.46</td>\n",
       "    </tr>\n",
       "    <tr>\n",
       "      <th>184</th>\n",
       "      <td>Stara Zagora</td>\n",
       "      <td>Bulgaria</td>\n",
       "      <td>42.42</td>\n",
       "      <td>25.62</td>\n",
       "      <td>10.90</td>\n",
       "    </tr>\n",
       "    <tr>\n",
       "      <th>185</th>\n",
       "      <td>Stavanger</td>\n",
       "      <td>Norway</td>\n",
       "      <td>58.97</td>\n",
       "      <td>5.68</td>\n",
       "      <td>5.53</td>\n",
       "    </tr>\n",
       "    <tr>\n",
       "      <th>186</th>\n",
       "      <td>Stockholm</td>\n",
       "      <td>Sweden</td>\n",
       "      <td>59.35</td>\n",
       "      <td>18.10</td>\n",
       "      <td>6.26</td>\n",
       "    </tr>\n",
       "    <tr>\n",
       "      <th>187</th>\n",
       "      <td>Sumy</td>\n",
       "      <td>Ukraine</td>\n",
       "      <td>50.92</td>\n",
       "      <td>34.78</td>\n",
       "      <td>6.28</td>\n",
       "    </tr>\n",
       "    <tr>\n",
       "      <th>188</th>\n",
       "      <td>Swansea</td>\n",
       "      <td>United Kingdom</td>\n",
       "      <td>51.63</td>\n",
       "      <td>-3.95</td>\n",
       "      <td>9.73</td>\n",
       "    </tr>\n",
       "    <tr>\n",
       "      <th>189</th>\n",
       "      <td>Szeged</td>\n",
       "      <td>Hungary</td>\n",
       "      <td>46.25</td>\n",
       "      <td>20.15</td>\n",
       "      <td>10.34</td>\n",
       "    </tr>\n",
       "    <tr>\n",
       "      <th>190</th>\n",
       "      <td>Tallinn</td>\n",
       "      <td>Estonia</td>\n",
       "      <td>59.43</td>\n",
       "      <td>24.73</td>\n",
       "      <td>4.82</td>\n",
       "    </tr>\n",
       "    <tr>\n",
       "      <th>191</th>\n",
       "      <td>Tampere</td>\n",
       "      <td>Finland</td>\n",
       "      <td>61.50</td>\n",
       "      <td>23.75</td>\n",
       "      <td>3.59</td>\n",
       "    </tr>\n",
       "    <tr>\n",
       "      <th>192</th>\n",
       "      <td>Tarsus</td>\n",
       "      <td>Turkey</td>\n",
       "      <td>36.92</td>\n",
       "      <td>34.88</td>\n",
       "      <td>11.21</td>\n",
       "    </tr>\n",
       "    <tr>\n",
       "      <th>193</th>\n",
       "      <td>Tartu</td>\n",
       "      <td>Estonia</td>\n",
       "      <td>58.38</td>\n",
       "      <td>26.71</td>\n",
       "      <td>4.36</td>\n",
       "    </tr>\n",
       "    <tr>\n",
       "      <th>194</th>\n",
       "      <td>Tekirdag</td>\n",
       "      <td>Turkey</td>\n",
       "      <td>40.99</td>\n",
       "      <td>27.51</td>\n",
       "      <td>13.02</td>\n",
       "    </tr>\n",
       "    <tr>\n",
       "      <th>195</th>\n",
       "      <td>Toulouse</td>\n",
       "      <td>France</td>\n",
       "      <td>43.62</td>\n",
       "      <td>1.45</td>\n",
       "      <td>10.25</td>\n",
       "    </tr>\n",
       "    <tr>\n",
       "      <th>196</th>\n",
       "      <td>Trabzon</td>\n",
       "      <td>Turkey</td>\n",
       "      <td>40.98</td>\n",
       "      <td>39.72</td>\n",
       "      <td>10.28</td>\n",
       "    </tr>\n",
       "    <tr>\n",
       "      <th>197</th>\n",
       "      <td>Trieste</td>\n",
       "      <td>Italy</td>\n",
       "      <td>45.65</td>\n",
       "      <td>13.80</td>\n",
       "      <td>11.21</td>\n",
       "    </tr>\n",
       "    <tr>\n",
       "      <th>198</th>\n",
       "      <td>Trikala</td>\n",
       "      <td>Greece</td>\n",
       "      <td>39.56</td>\n",
       "      <td>21.77</td>\n",
       "      <td>16.00</td>\n",
       "    </tr>\n",
       "    <tr>\n",
       "      <th>199</th>\n",
       "      <td>Trondheim</td>\n",
       "      <td>Norway</td>\n",
       "      <td>63.42</td>\n",
       "      <td>10.42</td>\n",
       "      <td>4.53</td>\n",
       "    </tr>\n",
       "    <tr>\n",
       "      <th>200</th>\n",
       "      <td>Turku</td>\n",
       "      <td>Finland</td>\n",
       "      <td>60.45</td>\n",
       "      <td>22.25</td>\n",
       "      <td>4.72</td>\n",
       "    </tr>\n",
       "    <tr>\n",
       "      <th>201</th>\n",
       "      <td>Uppsala</td>\n",
       "      <td>Sweden</td>\n",
       "      <td>59.86</td>\n",
       "      <td>17.64</td>\n",
       "      <td>4.17</td>\n",
       "    </tr>\n",
       "    <tr>\n",
       "      <th>202</th>\n",
       "      <td>Valencia</td>\n",
       "      <td>Spain</td>\n",
       "      <td>39.49</td>\n",
       "      <td>-0.40</td>\n",
       "      <td>16.02</td>\n",
       "    </tr>\n",
       "    <tr>\n",
       "      <th>203</th>\n",
       "      <td>Vienna</td>\n",
       "      <td>Austria</td>\n",
       "      <td>48.20</td>\n",
       "      <td>16.37</td>\n",
       "      <td>7.86</td>\n",
       "    </tr>\n",
       "    <tr>\n",
       "      <th>204</th>\n",
       "      <td>Vigo</td>\n",
       "      <td>Spain</td>\n",
       "      <td>42.22</td>\n",
       "      <td>-8.73</td>\n",
       "      <td>12.85</td>\n",
       "    </tr>\n",
       "    <tr>\n",
       "      <th>205</th>\n",
       "      <td>Vilnius</td>\n",
       "      <td>Lithuania</td>\n",
       "      <td>54.68</td>\n",
       "      <td>25.32</td>\n",
       "      <td>5.38</td>\n",
       "    </tr>\n",
       "    <tr>\n",
       "      <th>206</th>\n",
       "      <td>Warsaw</td>\n",
       "      <td>Poland</td>\n",
       "      <td>52.25</td>\n",
       "      <td>21.00</td>\n",
       "      <td>7.20</td>\n",
       "    </tr>\n",
       "    <tr>\n",
       "      <th>207</th>\n",
       "      <td>Wroclaw</td>\n",
       "      <td>Poland</td>\n",
       "      <td>51.11</td>\n",
       "      <td>17.03</td>\n",
       "      <td>7.17</td>\n",
       "    </tr>\n",
       "    <tr>\n",
       "      <th>208</th>\n",
       "      <td>Yevpatoriya</td>\n",
       "      <td>Ukraine</td>\n",
       "      <td>45.20</td>\n",
       "      <td>33.36</td>\n",
       "      <td>10.02</td>\n",
       "    </tr>\n",
       "    <tr>\n",
       "      <th>209</th>\n",
       "      <td>Zaragoza</td>\n",
       "      <td>Spain</td>\n",
       "      <td>41.65</td>\n",
       "      <td>-0.89</td>\n",
       "      <td>14.17</td>\n",
       "    </tr>\n",
       "    <tr>\n",
       "      <th>210</th>\n",
       "      <td>Zhytomyr</td>\n",
       "      <td>Ukraine</td>\n",
       "      <td>50.25</td>\n",
       "      <td>28.66</td>\n",
       "      <td>6.67</td>\n",
       "    </tr>\n",
       "    <tr>\n",
       "      <th>211</th>\n",
       "      <td>Zonguldak</td>\n",
       "      <td>Turkey</td>\n",
       "      <td>41.43</td>\n",
       "      <td>31.78</td>\n",
       "      <td>10.64</td>\n",
       "    </tr>\n",
       "    <tr>\n",
       "      <th>212</th>\n",
       "      <td>Zurich</td>\n",
       "      <td>Switzerland</td>\n",
       "      <td>47.38</td>\n",
       "      <td>8.56</td>\n",
       "      <td>6.68</td>\n",
       "    </tr>\n",
       "  </tbody>\n",
       "</table>\n",
       "<p>213 rows × 5 columns</p>\n",
       "</div>"
      ],
      "text/plain": [
       "             city         country  latitude  longitude  temperature\n",
       "0         Aalborg         Denmark     57.03       9.92         7.52\n",
       "1        Aberdeen  United Kingdom     57.17      -2.08         8.10\n",
       "2          Abisko          Sweden     63.35      18.83         0.20\n",
       "3           Adana          Turkey     36.99      35.32        18.67\n",
       "4        Albacete           Spain     39.00      -1.87        12.62\n",
       "5       Algeciras           Spain     36.13      -5.47        17.38\n",
       "6          Amiens          France     49.90       2.30        10.17\n",
       "7       Amsterdam     Netherlands     52.35       4.92         8.93\n",
       "8          Ancona           Italy     43.60      13.50        13.52\n",
       "9         Andorra         Andorra     42.50       1.52         9.60\n",
       "10         Angers          France     47.48      -0.53        10.98\n",
       "11         Ankara          Turkey     39.93      32.86         9.86\n",
       "12        Antalya          Turkey     36.89      30.70        11.88\n",
       "13           Arad         Romania     46.17      21.32         9.32\n",
       "14         Athens          Greece     37.98      23.73        17.41\n",
       "15       Augsburg         Germany     48.35      10.90         4.54\n",
       "16          Bacau         Romania     46.58      26.92         7.51\n",
       "17        Badajoz           Spain     38.88      -6.97        15.61\n",
       "18      Baia Mare         Romania     47.66      23.58         8.87\n",
       "19          Balti         Moldova     47.76      27.91         8.23\n",
       "20      Barcelona           Spain     41.38       2.18        15.78\n",
       "21           Bari           Italy     41.11      16.87        15.15\n",
       "22          Basel     Switzerland     47.58       7.59         6.68\n",
       "23         Batman          Turkey     37.89      41.14        14.16\n",
       "24        Belfast  United Kingdom     54.60      -5.96         8.48\n",
       "25       Belgrade          Serbia     44.82      20.47         9.85\n",
       "26        Bergamo           Italy     45.70       9.67         9.12\n",
       "27         Bergen          Norway     60.39       5.32         1.75\n",
       "28         Berlin         Germany     52.52      13.40         8.72\n",
       "29      Bialystok          Poland     53.15      23.17         6.07\n",
       "..            ...             ...       ...        ...          ...\n",
       "183         Split         Croatia     43.52      16.47        12.46\n",
       "184  Stara Zagora        Bulgaria     42.42      25.62        10.90\n",
       "185     Stavanger          Norway     58.97       5.68         5.53\n",
       "186     Stockholm          Sweden     59.35      18.10         6.26\n",
       "187          Sumy         Ukraine     50.92      34.78         6.28\n",
       "188       Swansea  United Kingdom     51.63      -3.95         9.73\n",
       "189        Szeged         Hungary     46.25      20.15        10.34\n",
       "190       Tallinn         Estonia     59.43      24.73         4.82\n",
       "191       Tampere         Finland     61.50      23.75         3.59\n",
       "192        Tarsus          Turkey     36.92      34.88        11.21\n",
       "193         Tartu         Estonia     58.38      26.71         4.36\n",
       "194      Tekirdag          Turkey     40.99      27.51        13.02\n",
       "195      Toulouse          France     43.62       1.45        10.25\n",
       "196       Trabzon          Turkey     40.98      39.72        10.28\n",
       "197       Trieste           Italy     45.65      13.80        11.21\n",
       "198       Trikala          Greece     39.56      21.77        16.00\n",
       "199     Trondheim          Norway     63.42      10.42         4.53\n",
       "200         Turku         Finland     60.45      22.25         4.72\n",
       "201       Uppsala          Sweden     59.86      17.64         4.17\n",
       "202      Valencia           Spain     39.49      -0.40        16.02\n",
       "203        Vienna         Austria     48.20      16.37         7.86\n",
       "204          Vigo           Spain     42.22      -8.73        12.85\n",
       "205       Vilnius       Lithuania     54.68      25.32         5.38\n",
       "206        Warsaw          Poland     52.25      21.00         7.20\n",
       "207       Wroclaw          Poland     51.11      17.03         7.17\n",
       "208   Yevpatoriya         Ukraine     45.20      33.36        10.02\n",
       "209      Zaragoza           Spain     41.65      -0.89        14.17\n",
       "210      Zhytomyr         Ukraine     50.25      28.66         6.67\n",
       "211     Zonguldak          Turkey     41.43      31.78        10.64\n",
       "212        Zurich     Switzerland     47.38       8.56         6.68\n",
       "\n",
       "[213 rows x 5 columns]"
      ]
     },
     "execution_count": 2,
     "metadata": {},
     "output_type": "execute_result"
    }
   ],
   "source": [
    "f = open('Cities.csv')\n",
    "cities = pd.read_csv(f)\n",
    "cities\n",
    "\n",
    "# Note no \"print\" needed"
   ]
  },
  {
   "cell_type": "code",
   "execution_count": null,
   "metadata": {
    "collapsed": false,
    "scrolled": false
   },
   "outputs": [],
   "source": [
    "# Number of rows\n",
    "len(cities)\n"
   ]
  },
  {
   "cell_type": "code",
   "execution_count": null,
   "metadata": {
    "collapsed": false
   },
   "outputs": [],
   "source": [
    "len(cities.columns)"
   ]
  },
  {
   "cell_type": "code",
   "execution_count": null,
   "metadata": {
    "collapsed": false
   },
   "outputs": [],
   "source": [
    "# First few rows\n",
    "cities.head(10)"
   ]
  },
  {
   "cell_type": "code",
   "execution_count": null,
   "metadata": {
    "collapsed": false
   },
   "outputs": [],
   "source": [
    "# Last 20 rows\n",
    "cities.tail(20)"
   ]
  },
  {
   "cell_type": "code",
   "execution_count": null,
   "metadata": {
    "collapsed": false
   },
   "outputs": [],
   "source": [
    "# Statistics for numeric columns\n",
    "cities.describe()"
   ]
  },
  {
   "cell_type": "markdown",
   "metadata": {},
   "source": [
    "### Sorting, selecting rows and columns"
   ]
  },
  {
   "cell_type": "code",
   "execution_count": null,
   "metadata": {
    "collapsed": false
   },
   "outputs": [],
   "source": [
    "# Sorting by country then descending temperature\n",
    "cities.sort_values(by=['country','temperature'],ascending=[True,False])"
   ]
  },
  {
   "cell_type": "code",
   "execution_count": null,
   "metadata": {
    "collapsed": false
   },
   "outputs": [],
   "source": [
    "# Selecting a single column - returns a 'series'\n",
    "cities.city\n",
    "\n",
    "# Also show cities['temperature']"
   ]
  },
  {
   "cell_type": "code",
   "execution_count": null,
   "metadata": {
    "collapsed": false
   },
   "outputs": [],
   "source": [
    "cities[['city']]"
   ]
  },
  {
   "cell_type": "code",
   "execution_count": null,
   "metadata": {
    "collapsed": false
   },
   "outputs": [],
   "source": [
    "cities[['city', 'temperature']]"
   ]
  },
  {
   "cell_type": "code",
   "execution_count": null,
   "metadata": {
    "collapsed": false
   },
   "outputs": [],
   "source": [
    "# Selecting multiple columns - returns a dataframe\n",
    "cities[['city','temperature']]"
   ]
  },
  {
   "cell_type": "code",
   "execution_count": null,
   "metadata": {
    "collapsed": false
   },
   "outputs": [],
   "source": [
    "cities[(cities.longitude < 0)]"
   ]
  },
  {
   "cell_type": "code",
   "execution_count": null,
   "metadata": {
    "collapsed": false
   },
   "outputs": [],
   "source": [
    "# Selecting rows based on condition\n",
    "cities[(cities.longitude < 0)]"
   ]
  },
  {
   "cell_type": "code",
   "execution_count": null,
   "metadata": {
    "collapsed": false
   },
   "outputs": [],
   "source": [
    "# Selecting rows by number\n",
    "cities[15:20]\n",
    "# Show cities[:8] and cities[200:]"
   ]
  },
  {
   "cell_type": "code",
   "execution_count": null,
   "metadata": {
    "collapsed": false
   },
   "outputs": [],
   "source": [
    "cities[:8]"
   ]
  },
  {
   "cell_type": "code",
   "execution_count": null,
   "metadata": {
    "collapsed": false
   },
   "outputs": [],
   "source": [
    "cities[200:]"
   ]
  },
  {
   "cell_type": "code",
   "execution_count": null,
   "metadata": {
    "collapsed": false
   },
   "outputs": [],
   "source": [
    "# Putting it together: selecting rows, selecting columns, sorting\n",
    "# Name and longitude of all cities with latitude > 50 and temperature > 9,\n",
    "# sorted by latitude\n",
    "temp1 = cities[(cities.latitude > 50) & (cities.temperature > 9)]\n",
    "temp2 = temp1[['city','temperature', 'latitude']]\n",
    "temp2.sort_values(by='temperature')\n",
    "# Show combining first two, then combining all (use \\ for long lines)\n",
    "# Note similar functionality to SQL"
   ]
  },
  {
   "cell_type": "markdown",
   "metadata": {},
   "source": [
    "### <font color=\"green\">Your Turn</font>"
   ]
  },
  {
   "cell_type": "code",
   "execution_count": null,
   "metadata": {
    "collapsed": false
   },
   "outputs": [],
   "source": [
    "# Read the Countries.csv file into a dataframe.\n",
    "# Print a list of all countries that don't have coastline and\n",
    "# are not in the EU, together with their highest points.\n",
    "# List should be in alphabetical order.\n",
    "\n",
    "f = open('Countries.csv')\n",
    "countries = pd.read_csv(f)\n",
    "countries[(countries.EU == 'no') & (countries.coastline == 'no')] \\\n",
    "[['country', 'highest']].sort_values(by='country')\n"
   ]
  },
  {
   "cell_type": "markdown",
   "metadata": {},
   "source": [
    "### Aggregation"
   ]
  },
  {
   "cell_type": "code",
   "execution_count": null,
   "metadata": {
    "collapsed": false
   },
   "outputs": [],
   "source": [
    "# Minimum and maximum\n",
    "print 'Minimum temperature:', min(cities['temperature'])\n",
    "print 'Maximum temperature:', max(cities['temperature'])"
   ]
  },
  {
   "cell_type": "code",
   "execution_count": null,
   "metadata": {
    "collapsed": false
   },
   "outputs": [],
   "source": [
    "# Average temperature of cities in France, computed two ways\n",
    "french = cities[(cities.country == 'France')]\n",
    "print 'Computed as sum/count:', sum(french['temperature'])/len(french['temperature'])\n",
    "print 'Computed as mean:', french['temperature'].mean()"
   ]
  },
  {
   "cell_type": "code",
   "execution_count": null,
   "metadata": {
    "collapsed": false
   },
   "outputs": [],
   "source": [
    "# Average temperature of cities in each country\n",
    "cities.groupby('country').mean()[['temperature']]\n",
    "# or with single brackets ['temperature'] or .temperature\n",
    "# Also show without column selection"
   ]
  },
  {
   "cell_type": "code",
   "execution_count": null,
   "metadata": {
    "collapsed": false
   },
   "outputs": [],
   "source": [
    "# Average temperature of cities in each country\n",
    "cities.groupby('country').mean()['temperature']\n",
    "# or with single brackets ['temperature'] or .temperature\n",
    "# Also show without column selection"
   ]
  },
  {
   "cell_type": "markdown",
   "metadata": {},
   "source": [
    "### <font color=\"green\">Your Turn</font>"
   ]
  },
  {
   "cell_type": "code",
   "execution_count": null,
   "metadata": {
    "collapsed": false
   },
   "outputs": [],
   "source": [
    "# Average highest point of countries in the EU and not in the EU,\n",
    "# then average highest point of countries with and without coastline\n",
    "# Note: When there's more than one \"query\" you only see the last result.\n",
    "# Try using print\n",
    "print countries.groupby('EU').mean()[['highest']]\n",
    "print countries.groupby('coastline').mean()[['highest']]\n"
   ]
  },
  {
   "cell_type": "markdown",
   "metadata": {},
   "source": [
    "### Joining"
   ]
  },
  {
   "cell_type": "code",
   "execution_count": null,
   "metadata": {
    "collapsed": false
   },
   "outputs": [],
   "source": [
    "cityext = cities.merge(countries, on='country')\n",
    "cityext"
   ]
  },
  {
   "cell_type": "code",
   "execution_count": null,
   "metadata": {
    "collapsed": false
   },
   "outputs": [],
   "source": [
    "# Joining is symmetric\n",
    "countryext = countries.merge(cities, on='country')\n",
    "countryext"
   ]
  },
  {
   "cell_type": "markdown",
   "metadata": {},
   "source": [
    "### Miscellaneous features"
   ]
  },
  {
   "cell_type": "code",
   "execution_count": null,
   "metadata": {
    "collapsed": false
   },
   "outputs": [],
   "source": [
    "# String operations - countries with 'ia' in their name\n",
    "countries[(countries.country.str.contains('ia'))]"
   ]
  },
  {
   "cell_type": "code",
   "execution_count": null,
   "metadata": {
    "collapsed": false
   },
   "outputs": [],
   "source": [
    "# Plotting\n",
    "import matplotlib\n",
    "%matplotlib inline\n",
    "cities.plot.scatter(x='latitude', y='temperature')"
   ]
  },
  {
   "cell_type": "code",
   "execution_count": null,
   "metadata": {
    "collapsed": false
   },
   "outputs": [],
   "source": [
    "# Add temp-fahrenheit column\n",
    "cities['temp-fahrenheit'] = (cities.temperature * 9/5) + 32\n",
    "cities"
   ]
  },
  {
   "cell_type": "markdown",
   "metadata": {},
   "source": [
    "### <font color=\"green\">Your Turn: World Cup data</font>"
   ]
  },
  {
   "cell_type": "code",
   "execution_count": null,
   "metadata": {
    "collapsed": true
   },
   "outputs": [],
   "source": [
    "# Read the Players and Teams data into dataframes\n",
    "f = open('Players.csv')\n",
    "players = pd.read_csv(f)\n",
    "f = open('Teams.csv')\n",
    "teams = pd.read_csv(f)"
   ]
  },
  {
   "cell_type": "code",
   "execution_count": null,
   "metadata": {
    "collapsed": false
   },
   "outputs": [],
   "source": [
    "# What player on a team with “ia” in the team name played less than\n",
    "# 200 minutes and made more than 100 passes? Print the player surname.\n",
    "\n",
    "players[(players.team.str.contains('ia')) & (players.minutes > 200) & (players.passes > 100)][['surname']]"
   ]
  },
  {
   "cell_type": "code",
   "execution_count": 21,
   "metadata": {
    "collapsed": false
   },
   "outputs": [
    {
     "data": {
      "text/plain": [
       "passes    102.643617\n",
       "dtype: float64"
      ]
     },
     "execution_count": 21,
     "metadata": {},
     "output_type": "execute_result"
    }
   ],
   "source": [
    "# What is the average number of passes made by defenders? By forwards?\n",
    "players[(players.position == 'defender')].mean()[['passes']]"
   ]
  },
  {
   "cell_type": "code",
   "execution_count": null,
   "metadata": {
    "collapsed": false
   },
   "outputs": [],
   "source": [
    "# Which team has the highest ratio of goalsFor to goalsAgainst?\n",
    "# Print the team name only.\n",
    "# Hint: Add a \"ratio\" column to the teams dataframe, then sort,\n",
    "# then use head(1) or tail(1) depending how you sorted"
   ]
  },
  {
   "cell_type": "code",
   "execution_count": null,
   "metadata": {
    "collapsed": false
   },
   "outputs": [],
   "source": [
    "# How many players on a team with ranking <10 played more than 350 minutes?\n",
    "# Reminder: len() gives number of rows i a dataframe"
   ]
  },
  {
   "cell_type": "code",
   "execution_count": null,
   "metadata": {
    "collapsed": false
   },
   "outputs": [],
   "source": [
    "# BONUS!\n",
    "# Write a loop that interactively asks the user to enter a team name.\n",
    "# If the team exists, list all of the players on that team\n",
    "# (with all of their information), sorted by descending minutes played.\n",
    "# If the team doesn't exist, print \"Team not in 2010 World Cup\".\n",
    "# If 'quit' is entered, terminate the loop.\n",
    "# Reminder: To read a string from the user instead of a number, use\n",
    "# raw_input() instead of input()\n",
    "# Note: To test if a value v is (not) in a column c of a dataframe D,\n",
    "# use \"v (not) in D['c'].values\""
   ]
  }
 ],
 "metadata": {
  "anaconda-cloud": {},
  "kernelspec": {
   "display_name": "Python [default]",
   "language": "python",
   "name": "python2"
  },
  "language_info": {
   "codemirror_mode": {
    "name": "ipython",
    "version": 2
   },
   "file_extension": ".py",
   "mimetype": "text/x-python",
   "name": "python",
   "nbconvert_exporter": "python",
   "pygments_lexer": "ipython2",
   "version": "2.7.12"
  }
 },
 "nbformat": 4,
 "nbformat_minor": 0
}

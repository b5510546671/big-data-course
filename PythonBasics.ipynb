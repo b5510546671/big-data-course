{
 "cells": [
  {
   "cell_type": "markdown",
   "metadata": {},
   "source": [
    "### Printing, Variables, Arithmetic"
   ]
  },
  {
   "cell_type": "code",
   "execution_count": 1,
   "metadata": {
    "collapsed": false
   },
   "outputs": [
    {
     "name": "stdout",
     "output_type": "stream",
     "text": [
      "I already love Python\n"
     ]
    }
   ],
   "source": [
    "# Print\n",
    "print 'I already love Python'"
   ]
  },
  {
   "cell_type": "code",
   "execution_count": 2,
   "metadata": {
    "collapsed": false
   },
   "outputs": [
    {
     "name": "stdout",
     "output_type": "stream",
     "text": [
      "10\n",
      "5\n"
     ]
    }
   ],
   "source": [
    "# Variables and assignment\n",
    "a = 10\n",
    "print a\n",
    "b = 5\n",
    "print b"
   ]
  },
  {
   "cell_type": "code",
   "execution_count": 3,
   "metadata": {
    "collapsed": false
   },
   "outputs": [
    {
     "name": "stdout",
     "output_type": "stream",
     "text": [
      "15\n",
      "50\n",
      "2\n",
      "5\n"
     ]
    }
   ],
   "source": [
    "# Arithmetic\n",
    "# Note variable values persist from previous cell\n",
    "print a + b\n",
    "print a * b\n",
    "print a / b\n",
    "print a - b"
   ]
  },
  {
   "cell_type": "code",
   "execution_count": 4,
   "metadata": {
    "collapsed": false
   },
   "outputs": [
    {
     "name": "stdout",
     "output_type": "stream",
     "text": [
      "15\n"
     ]
    }
   ],
   "source": [
    "# Update\n",
    "a = a + b\n",
    "print a"
   ]
  },
  {
   "cell_type": "code",
   "execution_count": null,
   "metadata": {
    "collapsed": false
   },
   "outputs": [],
   "source": [
    "# Increment\n",
    "a += b\n",
    "print a"
   ]
  },
  {
   "cell_type": "markdown",
   "metadata": {},
   "source": [
    "### Types"
   ]
  },
  {
   "cell_type": "code",
   "execution_count": null,
   "metadata": {
    "collapsed": false
   },
   "outputs": [],
   "source": [
    "# Dynamically-inferred types\n",
    "a = 10\n",
    "print type(a)\n",
    "a = '10'\n",
    "print type(a)\n",
    "a = 10.0\n",
    "print type(a)"
   ]
  },
  {
   "cell_type": "code",
   "execution_count": null,
   "metadata": {
    "collapsed": false
   },
   "outputs": [],
   "source": [
    "# Type-checking\n",
    "a = 10\n",
    "b = '5'\n",
    "print a + b"
   ]
  },
  {
   "cell_type": "code",
   "execution_count": null,
   "metadata": {
    "collapsed": false
   },
   "outputs": [],
   "source": [
    "# Manual type-casting (string to int)\n",
    "a = 10\n",
    "b = '5'\n",
    "print a + int(b)"
   ]
  },
  {
   "cell_type": "code",
   "execution_count": null,
   "metadata": {
    "collapsed": false
   },
   "outputs": [],
   "source": [
    "# Automatic type-casting (int to float)\n",
    "a = 10\n",
    "print type(a)\n",
    "a += 5.0\n",
    "print type(a)"
   ]
  },
  {
   "cell_type": "code",
   "execution_count": null,
   "metadata": {
    "collapsed": false
   },
   "outputs": [],
   "source": [
    "# Integer division\n",
    "a = 10\n",
    "b = 5\n",
    "print a/b\n",
    "print b/a"
   ]
  },
  {
   "cell_type": "code",
   "execution_count": null,
   "metadata": {
    "collapsed": false
   },
   "outputs": [],
   "source": [
    "# Forcing float division\n",
    "print float(b/a)\n",
    "# How to correct?"
   ]
  },
  {
   "cell_type": "code",
   "execution_count": null,
   "metadata": {
    "collapsed": false
   },
   "outputs": [],
   "source": [
    "# String \"arithmetic\" (actually concatenation)\n",
    "a = 'Professor '\n",
    "b = 'Widom'\n",
    "print a + b"
   ]
  },
  {
   "cell_type": "markdown",
   "metadata": {},
   "source": [
    "### User Input"
   ]
  },
  {
   "cell_type": "code",
   "execution_count": 5,
   "metadata": {
    "collapsed": false
   },
   "outputs": [
    {
     "name": "stdout",
     "output_type": "stream",
     "text": [
      "Enter value 1: 1\n",
      "Enter value 2: 2\n",
      "3\n"
     ]
    }
   ],
   "source": [
    "a = input('Enter value 1: ')\n",
    "b = input('Enter value 2: ')\n",
    "print a + b"
   ]
  },
  {
   "cell_type": "code",
   "execution_count": 7,
   "metadata": {
    "collapsed": false
   },
   "outputs": [
    {
     "name": "stdout",
     "output_type": "stream",
     "text": [
      "Enter value 1: a\n",
      "Enter value 2: b\n",
      "ab\n"
     ]
    }
   ],
   "source": [
    "# Note: input() function expects number\n",
    "# Note: user input is common cause of stuck execution\n",
    "a = raw_input('Enter value 1: ')\n",
    "b = raw_input('Enter value 2: ')\n",
    "print a + b"
   ]
  },
  {
   "cell_type": "markdown",
   "metadata": {},
   "source": [
    "### Conditional (If) Statements"
   ]
  },
  {
   "cell_type": "code",
   "execution_count": 10,
   "metadata": {
    "collapsed": false
   },
   "outputs": [
    {
     "name": "stdout",
     "output_type": "stream",
     "text": [
      "Enter value: 6\n",
      "a is greater than 5 but not greater than 10\n"
     ]
    }
   ],
   "source": [
    "# If statements\n",
    "# Unlike other languages, indentation is significant\n",
    "a = input('Enter value: ')\n",
    "if a > 10:\n",
    "    print 'a is greater than 10'\n",
    "    if a >= 15:\n",
    "        print 'a is also at least 15'\n",
    "elif a > 5:\n",
    "    print 'a is greater than 5 but not greater than 10'\n",
    "else:\n",
    "    print 'no condition matched'\n",
    "    print 'so a is 5 or less'"
   ]
  },
  {
   "cell_type": "markdown",
   "metadata": {},
   "source": [
    "### <font color = 'green'>Your Turn</font>"
   ]
  },
  {
   "cell_type": "code",
   "execution_count": 19,
   "metadata": {
    "collapsed": false
   },
   "outputs": [
    {
     "name": "stdout",
     "output_type": "stream",
     "text": [
      "Enter value: 10\n",
      "100\n",
      "big\n"
     ]
    }
   ],
   "source": [
    "# Write a program that asks for a number and computes the\n",
    "# square of that number.\n",
    "# If the square is 100 or greater, print the squared value\n",
    "# and the word 'big'.\n",
    "# Otherwise if the square is between 50 and 99, print the\n",
    "# squared value and the word 'medium'.\n",
    "# Otherwise just print 'too small to bother with'.\n",
    "\n",
    "a = input('Enter value: ')\n",
    "squared = a * a\n",
    "if squared >= 100:\n",
    "    print squared\n",
    "    print 'big'\n",
    "elif 50 <=squared<=99:\n",
    "    print squared\n",
    "    print 'medium'\n",
    "else:\n",
    "    print 'too small to bother with'"
   ]
  },
  {
   "cell_type": "markdown",
   "metadata": {},
   "source": [
    "### Lists and For-Loops"
   ]
  },
  {
   "cell_type": "code",
   "execution_count": 20,
   "metadata": {
    "collapsed": false
   },
   "outputs": [
    {
     "name": "stdout",
     "output_type": "stream",
     "text": [
      "[2, 4, 7, 9]\n",
      "<type 'list'>\n",
      "4\n"
     ]
    }
   ],
   "source": [
    "# List\n",
    "a = [2, 4, 7, 9]\n",
    "print a\n",
    "print type(a)\n",
    "print len(a)"
   ]
  },
  {
   "cell_type": "code",
   "execution_count": 21,
   "metadata": {
    "collapsed": false
   },
   "outputs": [
    {
     "name": "stdout",
     "output_type": "stream",
     "text": [
      "2 4 1.0\n",
      "4 8 2.0\n",
      "7 14 3.5\n",
      "9 18 4.5\n"
     ]
    }
   ],
   "source": [
    "# Iterate through a list\n",
    "for x in a:\n",
    "    print x, 2 * x, float(x)/2"
   ]
  },
  {
   "cell_type": "code",
   "execution_count": 24,
   "metadata": {
    "collapsed": false
   },
   "outputs": [
    {
     "name": "stdout",
     "output_type": "stream",
     "text": [
      "4\n",
      "9\n",
      "4\n"
     ]
    },
    {
     "data": {
      "text/plain": [
       "[0, 1, 2, 3, 4, 5, 6, 7, 8, 9]"
      ]
     },
     "execution_count": 24,
     "metadata": {},
     "output_type": "execute_result"
    }
   ],
   "source": [
    "# Access element by index (starts at zero)\n",
    "print a[1]\n",
    "print a[3]\n",
    "print len(a)\n",
    "range(0,10)"
   ]
  },
  {
   "cell_type": "code",
   "execution_count": 25,
   "metadata": {
    "collapsed": false
   },
   "outputs": [
    {
     "name": "stdout",
     "output_type": "stream",
     "text": [
      "[0, 1, 2, 3]\n",
      "2\n",
      "4\n",
      "7\n",
      "9\n"
     ]
    }
   ],
   "source": [
    "# Alternative iteration\n",
    "print range(0,len(a))\n",
    "for i in range(0,len(a)):\n",
    "    print a[i]"
   ]
  },
  {
   "cell_type": "code",
   "execution_count": 27,
   "metadata": {
    "collapsed": false
   },
   "outputs": [
    {
     "name": "stdout",
     "output_type": "stream",
     "text": [
      "[2, 4, 7, 9]\n",
      "[2, 4]\n",
      "[9]\n"
     ]
    }
   ],
   "source": [
    "# Prefix and suffix of list\n",
    "print a\n",
    "print a[:2]\n",
    "print a[3:]"
   ]
  },
  {
   "cell_type": "code",
   "execution_count": 30,
   "metadata": {
    "collapsed": false
   },
   "outputs": [
    {
     "name": "stdout",
     "output_type": "stream",
     "text": [
      "[2, 4, 7, 9, 12, 14, 15, 20, 30]\n",
      "[2, 4, 7, 9, 12, 14, 15, 20, 30, 12, 14]\n"
     ]
    }
   ],
   "source": [
    "print a\n",
    "# Append to list\n",
    "a.append(12)\n",
    "a.append(14)\n",
    "print a"
   ]
  },
  {
   "cell_type": "code",
   "execution_count": 29,
   "metadata": {
    "collapsed": false
   },
   "outputs": [
    {
     "name": "stdout",
     "output_type": "stream",
     "text": [
      "[2, 4, 7, 9, 12, 14, 15, 20, 30]\n"
     ]
    }
   ],
   "source": [
    "# Concatenate lists\n",
    "a = a + [15, 20, 30]\n",
    "print a"
   ]
  },
  {
   "cell_type": "code",
   "execution_count": 31,
   "metadata": {
    "collapsed": false
   },
   "outputs": [
    {
     "name": "stdout",
     "output_type": "stream",
     "text": [
      "[2, 4, 7, 9, 12, 14, 15, 20, 30, 12, 14]\n",
      "[15, 20, 30, 2, 4, 7, 9, 12, 14, 15, 20, 30, 12, 14]\n"
     ]
    }
   ],
   "source": [
    "print a\n",
    "a = [15,20,30] + a\n",
    "print a"
   ]
  },
  {
   "cell_type": "code",
   "execution_count": 32,
   "metadata": {
    "collapsed": false
   },
   "outputs": [
    {
     "name": "stdout",
     "output_type": "stream",
     "text": [
      "[1, 'two', 3.0, [4, 5, 6]]\n",
      "<type 'list'> <type 'float'> <type 'list'>\n"
     ]
    }
   ],
   "source": [
    "# Heterogenous list\n",
    "a = [1, \"two\", 3.0, [4,5,6]]\n",
    "print a\n",
    "print type(a), type(a[2]), type (a[3])"
   ]
  },
  {
   "cell_type": "code",
   "execution_count": 37,
   "metadata": {
    "collapsed": false
   },
   "outputs": [
    {
     "name": "stdout",
     "output_type": "stream",
     "text": [
      "[1, 'two', 3.0, [4, 5, 6], 'a', 'a', {'7': 'Seven'}]\n",
      "[1, 'two', 3.0, [4, 5, 6], 'a', 'a', {'7': 'Seven'}, 'a']\n",
      "<type 'str'>\n",
      "[1, 'two', 3.0, [4, 5, 6], 'a', 'a', {'7': 'Seven'}, 'a', {'7': 'Seven'}]\n"
     ]
    }
   ],
   "source": [
    "print a\n",
    "a = a + ['a']\n",
    "print a\n",
    "print type(a[4])\n",
    "b = {}\n",
    "b['7'] = 'Seven'\n",
    "a = a + [b]\n",
    "print a"
   ]
  },
  {
   "cell_type": "markdown",
   "metadata": {},
   "source": [
    "### Dictionaries (key-value mappings)"
   ]
  },
  {
   "cell_type": "code",
   "execution_count": 38,
   "metadata": {
    "collapsed": false
   },
   "outputs": [
    {
     "name": "stdout",
     "output_type": "stream",
     "text": [
      "{'gender': 'F', 'age': 20, 'name': 'Mary'}\n",
      "<type 'dict'>\n"
     ]
    }
   ],
   "source": [
    "# Dictionary\n",
    "a = {'name': 'Mary', 'age': 20, 'gender': 'F'}\n",
    "print a\n",
    "print type(a)"
   ]
  },
  {
   "cell_type": "code",
   "execution_count": 40,
   "metadata": {
    "collapsed": false
   },
   "outputs": [
    {
     "name": "stdout",
     "output_type": "stream",
     "text": [
      "Keys: ['gender', 'age', 'name'] 3\n",
      "Values: ['F', 20, 'Mary'] 3\n"
     ]
    }
   ],
   "source": [
    "# Keys and values\n",
    "print 'Keys:', a.keys(), len(a.keys())\n",
    "print 'Values:', a.values(), len(a.values())"
   ]
  },
  {
   "cell_type": "code",
   "execution_count": 42,
   "metadata": {
    "collapsed": false
   },
   "outputs": [
    {
     "name": "stdout",
     "output_type": "stream",
     "text": [
      "20\n",
      "F\n"
     ]
    },
    {
     "ename": "KeyError",
     "evalue": "'salary'",
     "output_type": "error",
     "traceback": [
      "\u001b[0;31m---------------------------------------------------------------------------\u001b[0m",
      "\u001b[0;31mKeyError\u001b[0m                                  Traceback (most recent call last)",
      "\u001b[0;32m<ipython-input-42-d1491ea2b36c>\u001b[0m in \u001b[0;36m<module>\u001b[0;34m()\u001b[0m\n\u001b[1;32m      3\u001b[0m \u001b[1;31m# also try a['gender'], a['salary']\u001b[0m\u001b[1;33m\u001b[0m\u001b[1;33m\u001b[0m\u001b[0m\n\u001b[1;32m      4\u001b[0m \u001b[1;32mprint\u001b[0m \u001b[0ma\u001b[0m\u001b[1;33m[\u001b[0m\u001b[1;34m'gender'\u001b[0m\u001b[1;33m]\u001b[0m\u001b[1;33m\u001b[0m\u001b[0m\n\u001b[0;32m----> 5\u001b[0;31m \u001b[1;32mprint\u001b[0m \u001b[0ma\u001b[0m\u001b[1;33m[\u001b[0m\u001b[1;34m'salary'\u001b[0m\u001b[1;33m]\u001b[0m\u001b[1;33m\u001b[0m\u001b[0m\n\u001b[0m",
      "\u001b[0;31mKeyError\u001b[0m: 'salary'"
     ]
    }
   ],
   "source": [
    "# Access element by key - very important feature!\n",
    "print a['age']\n",
    "# also try a['gender'], a['salary']\n",
    "print a['gender']\n",
    "print a['salary']"
   ]
  },
  {
   "cell_type": "code",
   "execution_count": 43,
   "metadata": {
    "collapsed": false
   },
   "outputs": [
    {
     "name": "stdout",
     "output_type": "stream",
     "text": [
      "Key: gender  Value: F\n",
      "Key: age  Value: 20\n",
      "Key: name  Value: Mary\n"
     ]
    }
   ],
   "source": [
    "# Iterate via keys\n",
    "for key in a.keys():\n",
    "    print 'Key:', key, ' Value:', a[key]"
   ]
  },
  {
   "cell_type": "code",
   "execution_count": 45,
   "metadata": {
    "collapsed": false
   },
   "outputs": [
    {
     "name": "stdout",
     "output_type": "stream",
     "text": [
      "gender F\n",
      "age 20\n",
      "name Mary\n"
     ]
    }
   ],
   "source": [
    "for key in a:\n",
    "    print key, a[key]"
   ]
  },
  {
   "cell_type": "code",
   "execution_count": 46,
   "metadata": {
    "collapsed": false
   },
   "outputs": [
    {
     "name": "stdout",
     "output_type": "stream",
     "text": [
      "Key: gender  Value: F\n",
      "Key: age  Value: 20\n",
      "Key: name  Value: Mary\n"
     ]
    }
   ],
   "source": [
    "# Default iteration is via keys\n",
    "for x in a:\n",
    "    print 'Key:', x, ' Value:', a[x]"
   ]
  },
  {
   "cell_type": "code",
   "execution_count": 49,
   "metadata": {
    "collapsed": false
   },
   "outputs": [
    {
     "name": "stdout",
     "output_type": "stream",
     "text": [
      "{'salary': 111, 'gender': 'F', 'age': 20, 'name': 'Mary', 'birthdate': 111111}\n"
     ]
    }
   ],
   "source": [
    "# Add new key-value pair\n",
    "a['salary'] = 100\n",
    "a['birthdate'] = 111111\n",
    "a['salary'] = 111\n",
    "print a"
   ]
  },
  {
   "cell_type": "markdown",
   "metadata": {},
   "source": [
    "### <font color = 'green'>Your Turn</font>"
   ]
  },
  {
   "cell_type": "code",
   "execution_count": 64,
   "metadata": {
    "collapsed": false
   },
   "outputs": [
    {
     "name": "stdout",
     "output_type": "stream",
     "text": [
      "[{'color': 'Red', 'size': 8}, {'color': 'Blue', 'size': 3}, {'color': 'Green', 'size': 12}]\n",
      "Enter value: 1\n",
      "Red\n",
      "Blue\n",
      "Green\n"
     ]
    }
   ],
   "source": [
    "# Write a program that creates a list of three items,\n",
    "# where each item is represented as a dictionary.\n",
    "# Each dictionary has two keys, color and size.\n",
    "# The three items are: Red size 8, Blue size 3, Green size 12.\n",
    "# Print the list of dictionaries.\n",
    "# Then ask for a number and print the color of all items\n",
    "# whose size is greater than that number.\n",
    "\n",
    "aa = [{'color': 'Red', 'size': 8}, {'color': 'Blue', 'size': 3}, {'color': 'Green', 'size': 12}]\n",
    "print aa\n",
    "size = input('Enter value: ')\n",
    "for x in aa:\n",
    "    if(x['size'] > size):\n",
    "        print x['color']\n"
   ]
  },
  {
   "cell_type": "markdown",
   "metadata": {},
   "source": [
    "### While-Loops"
   ]
  },
  {
   "cell_type": "code",
   "execution_count": 65,
   "metadata": {
    "collapsed": false
   },
   "outputs": [
    {
     "name": "stdout",
     "output_type": "stream",
     "text": [
      "Enter a number, 0 to stop: 2\n",
      "2\n",
      "Enter a number, 0 to stop: 3\n",
      "3\n",
      "Enter a number, 0 to stop: 0\n"
     ]
    }
   ],
   "source": [
    "# Echo user input, 0 indicates stop\n",
    "a = input('Enter a number, 0 to stop: ')\n",
    "while a <> 0:\n",
    "    print a\n",
    "    a = input('Enter a number, 0 to stop: ')\n",
    "# Change to while True and break"
   ]
  },
  {
   "cell_type": "markdown",
   "metadata": {},
   "source": [
    "### <font color = 'green'>Your Turn</font>"
   ]
  },
  {
   "cell_type": "code",
   "execution_count": null,
   "metadata": {
    "collapsed": false
   },
   "outputs": [],
   "source": [
    "# Revise your program from above to repeatedly ask for two\n",
    "# numbers and print the color of all items whose size\n",
    "# is between the two numbers, i.e., whose size is higher than\n",
    "# the first number and lower than the second number.\n",
    "# If the user's second number is equal to or smaller than\n",
    "# the first number, the program should print 'Done' and stop.\n",
    "# Note: for the \"and\" of two conditions C1 and C2, use \"C1 and C2\"\n",
    "aa = [{'color': 'Red', 'size': 8}, {'color': 'Blue', 'size': 3}, {'color': 'Green', 'size': 12}]\n",
    "\n",
    "first = input(\"Enter first number: \")\n",
    "second = input('Enter second number: ')\n",
    "while second > first:\n",
    "    for x in aa:\n",
    "        if(x['size'] > first and x['size'] < second):\n",
    "            print x['color']"
   ]
  },
  {
   "cell_type": "markdown",
   "metadata": {},
   "source": [
    "### Variable names"
   ]
  },
  {
   "cell_type": "code",
   "execution_count": null,
   "metadata": {
    "collapsed": false
   },
   "outputs": [],
   "source": [
    "# I use single-letters except when it's useful to have\n",
    "# a meaningful name\n",
    "a = 10\n",
    "print a\n",
    "theresnoreasontohavealongnameforthisvariable = 10\n",
    "print theresnoreasontohavealongnameforthisvariable\n",
    "ages = [22, 40, 16, 29, 52]\n",
    "for age in ages:\n",
    "    if age > 25: print age"
   ]
  },
  {
   "cell_type": "markdown",
   "metadata": {},
   "source": [
    "### Functions (just FYI)"
   ]
  },
  {
   "cell_type": "code",
   "execution_count": null,
   "metadata": {
    "collapsed": true
   },
   "outputs": [],
   "source": [
    "# Create a function with no arguments or return value\n",
    "def simple():\n",
    "    print 'This function has no arguments or return value'"
   ]
  },
  {
   "cell_type": "code",
   "execution_count": null,
   "metadata": {
    "collapsed": false
   },
   "outputs": [],
   "source": [
    "# Call the function five times\n",
    "for i in range(1,6):\n",
    "    simple()"
   ]
  },
  {
   "cell_type": "code",
   "execution_count": null,
   "metadata": {
    "collapsed": true
   },
   "outputs": [],
   "source": [
    "# Create a function with arguments and a return value\n",
    "def addthem(a, b):\n",
    "    return a + b"
   ]
  },
  {
   "cell_type": "code",
   "execution_count": null,
   "metadata": {
    "collapsed": false
   },
   "outputs": [],
   "source": [
    "# Call the function five times\n",
    "for i in range(1,6):\n",
    "    print 'x is', i\n",
    "    print 'y is', i+1\n",
    "    print 'sum is', addthem(i,i+1)"
   ]
  }
 ],
 "metadata": {
  "anaconda-cloud": {},
  "kernelspec": {
   "display_name": "Python [default]",
   "language": "python",
   "name": "python2"
  },
  "language_info": {
   "codemirror_mode": {
    "name": "ipython",
    "version": 2
   },
   "file_extension": ".py",
   "mimetype": "text/x-python",
   "name": "python",
   "nbconvert_exporter": "python",
   "pygments_lexer": "ipython2",
   "version": "2.7.12"
  }
 },
 "nbformat": 4,
 "nbformat_minor": 0
}
